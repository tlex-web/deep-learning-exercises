{
  "cells": [
    {
      "cell_type": "markdown",
      "metadata": {
        "id": "8KOKsRm40PW3"
      },
      "source": [
        "### Group Members:\n",
        "\n",
        "- Name, matriculation number\n",
        "- Name, matriculation number\n",
        "- Name, matriculation number"
      ]
    },
    {
      "cell_type": "markdown",
      "metadata": {
        "id": "C1B73Jzx85LV"
      },
      "source": [
        "# Assignment 5 - Time Series Processing\n",
        "\n",
        "The goal of this assignment is to explore time series processing for **sleep stage classification**, using models that capture **temporal dynamics** in EEG recordings. \n",
        "We will implement and compare different neural network architectures **— 1D Convolution, Recurrent Neural Network (RNN), Long Short-Term Memory (LSTM), and Attention-based network —** on a subset of the **Sleep-EDF dataset**. \n",
        "\n",
        "The dataset contains EEG signals recorded from human subjects at the Fpz-Cz electrode location on the scalp. \n",
        "The EEG signal is sampled at **100 Hz**, meaning **each second contains 100 data points**. \n",
        "As is common practice in sleep research, the continuous signal is segmented into **non-overlapping 30-second windows**, resulting in **3000 sequential samples per segment**. \n",
        "In other words, each segment represents **a single-channel time series** reflecting brain activity during that **30-second interval**.\n",
        "Each EEG segment is labeled with one of the following five sleep stages: Wake, N1 (Light Sleep), N2 (Stable Sleep), N3 (Deep Sleep), or REM (Rapid Eye Movement), **corresponding to labels 0 through 4**. \n",
        "\n",
        "Each individual's data is stored in a separate `.npz` file. \n",
        "For this assignment, the dataset will be split by subject: a portion of individuals will be used for training, another subset for validation, and the remaining subjects for testing.\n",
        "\n",
        "**1D convolution** is well-suited for time-series data like EEG signals, as it applies localized filters along the time axis to automatically capture temporal patterns such as trends, transitions, and periodicities, while preserving sequence order. \n",
        "Stacking **Conv1d** and pooling layers helps compress the sequence length efficiently without losing important information, enabling faster and more scalable processing. \n",
        "Therefore, in this assignment, to handle the long input sequences (**3000 time steps**), you are required to design **a small 1D convolutional neural network** as a feature extractor, which will also be utilized by all subsequent models, including the RNN, LSTM, and Attention-based network. \n",
        "Each model will then process the reduced sequence to classify the sample into one of the sleep stages.\n",
        "\n",
        "The entire assignment will be implemented using `PyTorch`.\n",
        "\n",
        "**Structure of Networks**\n",
        "\n",
        "1. **Feature Extractor**: *The designed feature extractor network based on Conv1d operations*\n",
        "\n",
        "2. **Classifier Networks:**\n",
        "\n",
        "   a) **Pooling**: *Feature extractor* ⟶  *Global pooling* ⟶ *Classifier*\n",
        "\n",
        "   b) **RNN**: *Feature extractor* ⟶  *RNN* ⟶ *Classifier*\n",
        "\n",
        "   c) **LSTM**: *Feature extractor* ⟶  *LSTM* ⟶ *Classifier*\n",
        "\n",
        "   d) **Attention with class token**: *Feature extractor* ⟶  *Self-attention with Class token* ⟶ *Class token* ⟶ *Classifier*\n",
        "\n",
        "**Class Imbalance**\n",
        "\n",
        "After training all networks, we will evaluate and compare their performance. \n",
        "The best-performing model will then be further refined to better address class imbalance by applying two strategies:\n",
        "\n",
        "* **Global Class Weighting**: Apply a weighted loss function where each class is assigned a weight inversely proportional to its frequency in the entire training set. \n",
        "This ensures that samples from underrepresented classes contribute more significantly to the loss.\n",
        "\n",
        "* **DynaMit Approach**: Implement a dynamic class weighting method, where class weights are computed per batch during training based on the class distribution within each batch. \n",
        "Unlike fixed global class weights, this approach adapts dynamically to the composition of each batch.\n",
        "\n",
        "The final results from each model will be compared based on overall classification accuracy, balanced accuracy and per-class performance."
      ]
    },
    {
      "cell_type": "markdown",
      "metadata": {
        "id": "dKg8Xm0Y8_OI"
      },
      "source": [
        "## Theoretical Sections\n",
        "\n",
        "In this section, we address following fundamental aspects:  \n",
        "\n",
        "1. Design the feature extractor network for time series processing\n",
        "2. Compute the output feature map size of the designed feature extractor network\n",
        "3. Discuss pros and cons of other feature extraction methods \n",
        "4. Explore normalization methods for EEG time series signals\n",
        "5. Discuss alternative attention methods for EEG classification\n",
        "6. Handle variable-length sequences"
      ]
    },
    {
      "cell_type": "markdown",
      "metadata": {
        "id": "kJJfBzVDxTX2"
      },
      "source": [
        "#### Task 1.1: 1D Convolutional Network\n",
        "\n",
        "Design a **feature extractor** that **must** include **three 1D convolutional layers** with $Q_1$, $Q_2$, and $Q_3$ output channels, respectively. \n",
        "Explain the reasoning why you have designed the network in the way you did.\n",
        "\n",
        "**Note:** You are encouraged to add additional layers such as `MaxPool1D`, `BatchNorm1D`, `non-linear activations` (e.g., ReLU, GELU, etc.) and `Dropout` wherever you find appropriate, in order to improve feature compression and model generalization.\n",
        "Also, make use of padding, striding or any other techniques in your convolution and pooling operations.\n",
        "A reasonable number of output channels could be $Q_3=128$."
      ]
    },
    {
      "cell_type": "markdown",
      "metadata": {
        "id": "qmGZrDkEz5Kr"
      },
      "source": [
        "Answer:\n",
        "\n",
        "**Layer 1**:\n",
        "...\n",
        "\n",
        "**Layer 2**:\n",
        "...\n",
        "\n",
        "**Layer 3**:\n",
        "..."
      ]
    },
    {
      "cell_type": "markdown",
      "metadata": {
        "id": "WBaG46cuevR-"
      },
      "source": [
        "#### Task 1.2: Calculate Feature Map Dimension\n",
        "\n",
        "Given the network designed in Task 1.1, calculate the dimensionality of the extracted feature map, including the new sequence length, the number of channels and the batch size.\n",
        "\n",
        "**Hint:** Consider how each `Conv1d` and `MaxPool1d` layer affects the time dimension."
      ]
    },
    {
      "cell_type": "markdown",
      "metadata": {
        "id": "M_T-ZwNwz8qj"
      },
      "source": [
        "Answer: ..."
      ]
    },
    {
      "cell_type": "markdown",
      "metadata": {
        "id": "3IkrbNdWPREg"
      },
      "source": [
        "#### Task 1.3: Feature Extractors\n",
        "\n",
        "When performing classification on brain waves, we can apply temporal models such as LSTM, GRU, or attention-based networks for time-series EEG signals.\n",
        "However, high-frequency wave structures are difficult to learn from.\n",
        "Therefore, in the literature there exist several ways of how to handle such high-frequency data.\n",
        "\n",
        "**Which methods or architectures can be used for feature extraction?** \n",
        "Please explain possible methods and their advantages/disadvantages."
      ]
    },
    {
      "cell_type": "markdown",
      "metadata": {
        "id": "4iZdc_pb0AyU"
      },
      "source": [
        "Answer:\n",
        "- Method 1: ...\n",
        "  + Advantage: ...\n",
        "  + Disadvantage: ...\n",
        "\n",
        "- Method 2: ...\n",
        "  + Advantage: ...\n",
        "  + Disadvantage: ...\n",
        "\n",
        "..."
      ]
    },
    {
      "cell_type": "markdown",
      "metadata": {
        "id": "kFvSJ9eQPTTT"
      },
      "source": [
        "#### Task 1.4: Normalization Methods\n",
        "\n",
        "Input normalization is an important preprocessing step that helps in providing inputs in reasonable input ranges.\n",
        "Especially for such sequence-based systems, there exist several variations of input normalization.\n",
        "\n",
        "**How could we normalize the time sequence brain signals (e.g., EEG) for sleep stage classification?** \n",
        "Please explain possible methods."
      ]
    },
    {
      "cell_type": "markdown",
      "metadata": {
        "id": "6gsCkMbq0Ely"
      },
      "source": [
        "Answer: ..."
      ]
    },
    {
      "cell_type": "markdown",
      "metadata": {
        "id": "wruDkUgSPUN8"
      },
      "source": [
        "#### Task 1.5: Attention Mechanisms\n",
        "\n",
        "In Task 2.7, we will make use of standard self-attention with a class token to extract sequence-level information to perform the final classification task.\n",
        "This includes concatenating a learnable class token to the features extracted by the feature extractor, apply self-attention, and then evaluate the result of the transformed class token.\n",
        "While this is the most commonly applied way of extracting sequence-level information in attention-based networks, other ways of extracting such sequence-level information also exist.\n",
        "\n",
        "**Explain possible methods for using attention mechanisms -- not only self-attention -- to extract sequence-level information.** "
      ]
    },
    {
      "cell_type": "markdown",
      "metadata": {
        "id": "dGwOhdlM0HYn"
      },
      "source": [
        "Answer: ..."
      ]
    },
    {
      "cell_type": "markdown",
      "metadata": {},
      "source": [
        "#### Task 1.6: Variable Sequence Lengths\n",
        "\n",
        "In our small example above, we ensured that the dataset always contained the same sequence lengths for all samples.\n",
        "However, in many tasks, including natural language processing, sequence lengths can differ between samples.\n",
        "\n",
        "**Explain how we can handle situations where the input sequences have different lengths?**\n",
        "Provide at least two different strategies."
      ]
    },
    {
      "cell_type": "markdown",
      "metadata": {},
      "source": [
        "Answer:\n",
        "..."
      ]
    },
    {
      "cell_type": "markdown",
      "metadata": {
        "id": "7ke4nefO9HHO"
      },
      "source": [
        "## Coding\n",
        "\n",
        "\n",
        "**<font color='red' size='5'>This section has to be submitted by 11:59 p.m. on Wednesday, May 21, to be graded.</font>**\n",
        "\n",
        "Before we start, we should assure that we have activated CUDA -- otherwise training might take long.\n",
        "In Google Colaboratory:\n",
        "\n",
        "1. Check the options Runtime -> Change Runtime Type on top of the page.\n",
        "2. In the popup window, select hardware accelerator GPU.\n",
        "\n",
        "Afterward, the following command should run successfully:"
      ]
    },
    {
      "cell_type": "code",
      "execution_count": 1,
      "metadata": {},
      "outputs": [
        {
          "name": "stdout",
          "output_type": "stream",
          "text": [
            "CUDA processing not available. Things will be slow :-(\n"
          ]
        }
      ],
      "source": [
        "import torch\n",
        "\n",
        "if torch.cuda.is_available():\n",
        "    print(\"Successfully enabled CUDA processing\")\n",
        "    device = torch.device(\"cuda\")\n",
        "else:\n",
        "    print(\"CUDA processing not available. Things will be slow :-(\")\n",
        "    device = torch.device(\"cpu\")"
      ]
    },
    {
      "cell_type": "markdown",
      "metadata": {},
      "source": [
        "### Dataset\n",
        "\n",
        "In this assignment, the dataset consists of EEG signals stored in `.npz` files. \n",
        "Each file corresponds to one subject's data. \n",
        "In particular, loading a subject's file provides two essential `numpy` arrays that we use. \n",
        "These two arrays can be accessed using the keys `x` and `y` respectively in the loaded `.npz` file. \n",
        "\n",
        "* `x` (Input): The EEG signals, where each sample is a 30-second window containing 3000 sequential points across a single channel. The inputs are $X^{[n]} \\in \\mathbb R^{3000\\times1}$.\n",
        "* `y` (Target): The corresponding sleep stage labels, where each label $\\tau^{[n]} \\in \\{0, 1, 2, 3, 4\\}$ represents one of the five sleep stages: Wake, N1, N2, N3, and REM.\n",
        "\n",
        "Please use the cell below to download and extract the data into the specified `data_directory`."
      ]
    },
    {
      "cell_type": "code",
      "execution_count": 2,
      "metadata": {},
      "outputs": [],
      "source": [
        "import pathlib\n",
        "import urllib\n",
        "import zipfile\n",
        "\n",
        "# set directory where to download data to\n",
        "data_directory = pathlib.Path(\"data\")\n",
        "data_file = data_directory/\"Sleep-EDF-Subjects.zip\"\n",
        "\n",
        "data_url = \"https://seafile.ifi.uzh.ch/f/08eda6b5e19a4b39b922/?dl=1\"\n",
        "\n",
        "# create data directory\n",
        "data_directory.mkdir(exist_ok=True)\n",
        "\n",
        "# Skip downloading if the file already exists\n",
        "if not data_file.is_file():\n",
        "    # Download the file\n",
        "    urllib.request.urlretrieve(data_url, data_file)\n",
        "    print(f\"Downloaded {data_file} successfully.\")\n",
        "\n",
        "    # Extract the zip file\n",
        "    with zipfile.ZipFile(data_file, 'r') as zip_ref:\n",
        "        zip_ref.extractall(path=data_directory)\n",
        "    print(f\"Extracted {data_file} successfully.\")"
      ]
    },
    {
      "cell_type": "markdown",
      "metadata": {},
      "source": [
        "For this assignment, specific lists of subject files are provided below to define the training, validation, and test sets. \n",
        "**Please run the following cell to define them, and make sure to use these splits to ensure consistency across all experiments.**"
      ]
    },
    {
      "cell_type": "code",
      "execution_count": 3,
      "metadata": {},
      "outputs": [],
      "source": [
        "# Define our training/validation/test splits, which we perform per subject\n",
        "training_subjects = [\"SC4001E0.npz\", \"SC4002E0.npz\", \"SC4011E0.npz\", \"SC4012E0.npz\", \"SC4021E0.npz\", \"SC4022E0.npz\", \"SC4031E0.npz\", \"SC4032E0.npz\", \"SC4041E0.npz\", \"SC4042E0.npz\"]\n",
        "validation_subjects = [\"SC4051E0.npz\", \"SC4052E0.npz\", \"SC4061E0.npz\"]\n",
        "test_subjects = [\"SC4062E0.npz\", \"SC4071E0.npz\", \"SC4072E0.npz\"]\n",
        "\n",
        "stage_names = {\n",
        "    0: \"Wake\",\n",
        "    1: \"Light sleep\",\n",
        "    2: \"Stable sleep\",\n",
        "    3: \"Deep sleep\",\n",
        "    4: \"REM\"\n",
        "}\n",
        "\n",
        "O = len(stage_names)"
      ]
    },
    {
      "cell_type": "markdown",
      "metadata": {},
      "source": [
        "#### Task 2.1: Dataset Loading\n",
        "\n",
        "Implement a function that takes a list of subject file names and loads the corresponding data to create the full input $𝑋$ and target $\\tau$ `torch.Tensor` for the specified set (training, validation, or test). \n",
        "**The data from all subject files of a set should be concatenated.**\n",
        "\n",
        "Ensure that:\n",
        "\n",
        "* The input $X$ tensor is of type `torch.float32` and has the shape **(Number of samples, Channels, Sequence length)**. *This format is necessary because the feature extractor expects the input in this order.*\n",
        "* The target $T$ tensor is of type `torch.long` and has the shape **(Number of samples,)**."
      ]
    },
    {
      "cell_type": "code",
      "execution_count": 4,
      "metadata": {},
      "outputs": [],
      "source": [
        "import numpy\n",
        "\n",
        "def load_data(subject_list):\n",
        "    # Read all subject files of a set\n",
        "    inputs, targets = [], []\n",
        "\n",
        "    for subject in subject_list:\n",
        "        data = numpy.load(data_directory/subject)\n",
        "        input = torch.tensor(data[\"x\"])  # EEG signals, shape: (num_samples, 3000, 1)\n",
        "        target = torch.tensor(data[\"y\"])  # Labels, shape: (num_samples,)\n",
        "        # Ensure input shape is (num_samples, 1, 3000)\n",
        "        if input.ndim == 3:\n",
        "            input = input.permute(0, 2, 1)  # (num_samples, 1, 3000)\n",
        "        elif input.ndim == 2:\n",
        "            input = input.unsqueeze(1)  # (num_samples, 1, 3000)\n",
        "        inputs.append(input)\n",
        "        targets.append(target)\n",
        "\n",
        "    # Concatenate all samples along the first dimension\n",
        "    X = torch.cat(inputs, dim=0).float()  # shape: (total_samples, 1, 3000)\n",
        "    T = torch.cat(targets, dim=0).long()  # shape: (total_samples,)\n",
        "\n",
        "    return X, T\n",
        "\n",
        "# We load the three different sets\n",
        "X_train, T_train = load_data(training_subjects)\n",
        "X_valid, T_valid = load_data(validation_subjects)\n",
        "X_test, T_test = load_data(test_subjects)"
      ]
    },
    {
      "cell_type": "markdown",
      "metadata": {
        "id": "2Abp751vaQLx"
      },
      "source": [
        "#### Test 1: Data Types and Sizes\n",
        "\n",
        "Verify that all tensors have the correct shape and data type."
      ]
    },
    {
      "cell_type": "code",
      "execution_count": 5,
      "metadata": {
        "colab": {
          "base_uri": "https://localhost:8080/"
        },
        "id": "hAMpr6hhaQLx",
        "outputId": "58c5e70b-40a2-4e64-95e0-05e398bcba91"
      },
      "outputs": [
        {
          "name": "stdout",
          "output_type": "stream",
          "text": [
            "Sanity check passed! All datasets are correctly loaded.\n"
          ]
        }
      ],
      "source": [
        "# Define datasets and expected shapes\n",
        "sets = {\n",
        "    \"train\": (X_train, T_train, 10589),\n",
        "    \"valid\": (X_valid, T_valid, 2761),\n",
        "    \"test\": (X_test, T_test, 3265)\n",
        "}\n",
        "\n",
        "for set, (X, T, expected_length) in sets.items():\n",
        "    assert isinstance(X, torch.Tensor) and isinstance(T, torch.Tensor), f\"{set}: X or T is not a torch.Tensor\"\n",
        "    assert X.dtype == torch.float32, f\"X_{set} should be float32\"\n",
        "    assert T.dtype == torch.long, f\"T_{set} should be long\"\n",
        "    assert X.shape == (expected_length, 1, 3000), f\"X_{set} shape should be ({expected_length}, 1, 3000)\"\n",
        "    assert T.shape == (expected_length,), f\"T_{set} shape should be ({expected_length},)\"\n",
        "\n",
        "print(\"Sanity check passed! All datasets are correctly loaded.\")"
      ]
    },
    {
      "cell_type": "markdown",
      "metadata": {
        "id": "zLckIo8E0h6h"
      },
      "source": [
        "#### Task 2.2: Data Visualization\n",
        "\n",
        "In this task, we will explore the dataset by creating two different visualizations to better understand its structure.\n",
        "\n",
        "First, randomly select one EEG segment for each different sleep stage label (0 to 4) from **the training set** and plot them.\n",
        "On the x-axis, display the corresponding sleep stage names (e.g., Wake, Light Sleep, etc.) centered under each segment.\n",
        "The y-axis should represent the EEG signal amplitude.\n",
        "\n",
        "As usual, try to avoid using `numpy` functionality and rely solely on `torch` and `matplotlib` functions."
      ]
    },
    {
      "cell_type": "code",
      "execution_count": 6,
      "metadata": {
        "id": "S5KVLAAmM1D1"
      },
      "outputs": [
        {
          "data": {
            "image/png": "[encoded data removed]",
            "text/plain": [
              "<Figure size 1400x400 with 1 Axes>"
            ]
          },
          "metadata": {},
          "output_type": "display_data"
        }
      ],
      "source": [
        "from matplotlib import pyplot\n",
        "\n",
        "torch.manual_seed(42)\n",
        "\n",
        "# ------------------ EEG signal segments plot ------------------\n",
        "\n",
        "# Colors for each sleep stage\n",
        "stage_colors = {0: \"#1f77b4\", 1: \"#ff7f0e\", 2: \"#2ca02c\", 3: \"#d62728\", 4: \"#9467bd\"}\n",
        "\n",
        "pyplot.figure(figsize=(14, 4))\n",
        "start = 0\n",
        "segment_length = 3000  # Each EEG segment has 3000 samples\n",
        "\n",
        "for label in range(O):\n",
        "\n",
        "    # Find all indices where the label matches the current sleep stage in the training set\n",
        "    indices = torch.where(T_train == label)[0]\n",
        "    # Randomly select one index from indices\n",
        "    random_idx = torch.randint(0, len(indices), (1,)).item()\n",
        "    # Select the EEG signals of that index\n",
        "    eeg_signals = X_train[indices[random_idx]].squeeze(0)  # shape: (3000,)\n",
        "\n",
        "    # Plot the EEG signal with correct offset on the x-axis\n",
        "    end = start + eeg_signals.shape[0]\n",
        "    pyplot.plot(torch.arange(start, end), eeg_signals, color=stage_colors[label])\n",
        "    start = end  # Update start for the next segment\n",
        "\n",
        "# Set x-axis ticks to stage names centered under each segment\n",
        "tick_positions = [segment_length * o + segment_length // 2 for o in range(O)]\n",
        "tick_labels = [stage_names[o] for o in range(O)]\n",
        "pyplot.xticks(tick_positions, tick_labels)\n",
        "pyplot.xlim(0,end)\n",
        "\n",
        "# Label the y-axis as EEG amplitude\n",
        "pyplot.ylabel(\"EEG Signal Amplitude\")\n",
        "pyplot.title(\"EEG Signals for Different Sleep Stages\")\n",
        "pyplot.grid(True, linestyle=\"--\", alpha=0.5)  # Add light grid\n",
        "pyplot.tight_layout()\n",
        "pyplot.show()"
      ]
    },
    {
      "cell_type": "markdown",
      "metadata": {},
      "source": [
        "Second, plot **the class distribution** for the **training**, **validation**, and **test** sets. \n",
        "Create three bar plots (one for each set) displayed side-by-side.\n",
        "Each bar should show the number of samples for each sleep stage (Wake, Light Sleep, Stable Sleep, Deep Sleep, REM).\n",
        "\n",
        "These visualizations will help you better understand the structure of the data and the level of class imbalance across the different dataset splits.\n",
        "\n",
        "Hint: The function `torch.unique` might be of help for counting occurrences of labels."
      ]
    },
    {
      "cell_type": "code",
      "execution_count": 7,
      "metadata": {},
      "outputs": [
        {
          "data": {
            "image/png": "[encoded data removed]",
            "text/plain": [
              "<Figure size 1800x500 with 3 Axes>"
            ]
          },
          "metadata": {},
          "output_type": "display_data"
        }
      ],
      "source": [
        "# ------------------ Class distribution plots ------------------\n",
        "# Create subplots\n",
        "fig, axs = pyplot.subplots(1, 3, figsize=(18, 5))\n",
        "\n",
        "# Loop over each dataset split\n",
        "for ax, set_name, labels in zip(axs, (\"Training\", \"Validation\", \"Test\"), (T_train, T_valid, T_test)):\n",
        "\n",
        "    # Count occurrences of each    unique_labels = torch.unique(labels)\n",
        "    per_class_counts = torch.zeros(O, dtype=torch.int64)\n",
        "    unique_labels = torch.unique(labels)\n",
        "    for label in unique_labels:\n",
        "        per_class_counts[label] = torch.sum(labels == label)\n",
        "\n",
        "    # Plot the distribution as a bar chart\n",
        "    ax.bar(unique_labels, per_class_counts, color='skyblue', edgecolor='black', alpha=0.7)\n",
        "\n",
        "    # Annotate each bar with the exact count\n",
        "    for i, count in enumerate(per_class_counts):\n",
        "        ax.text(unique_labels[i], count + O, str(count.item()), ha='center', fontsize=12)\n",
        "\n",
        "    # Set titles and axis labels\n",
        "    ax.set_title(f\"Sleep Stage Label Distribution ({set_name})\")\n",
        "    ax.set_xlabel(\"Sleep Stage Labels\")\n",
        "    ax.set_ylabel(\"Frequency\")\n",
        "    ax.set_xticks(range(O))\n",
        "    ax.set_xticklabels(stage_names.values(), rotation=30)\n",
        "    ax.grid(axis='y', linestyle=\"--\", alpha=0.6)\n",
        "\n",
        "pyplot.tight_layout()\n",
        "pyplot.show()"
      ]
    },
    {
      "cell_type": "markdown",
      "metadata": {},
      "source": [
        "#### Task 2.3: Class Weights\n",
        "In later parts of the code, we will make use of class weighting strategies in order to automatically balance the loss function during training.\n",
        "This requires to obtain class weights, which can be computed using the equation introduced in Lecture 7:\n",
        "\n",
        "$$\\lambda_\\tau = \\frac{N}{O\\cdot N_\\tau}$$\n",
        "\n",
        "Here, $N$ defines the total number of samples in our dataset, while $N_\\tau$ s the number of samples of class $\\tau$, and $O$ is the number of classes.\n",
        "We can also dynamically compute these weight per batch, to arrive at the **DynaMit** weighting.\n",
        "\n",
        "Define a function to compute the class weights from a given set of targets $\\vec t \\in \\{1,\\ldots,O\\}^{N}$, which can either be the **global** set of targets, or a batch of targets.\n",
        "\n",
        "Note: When we provide a batch of targets, the number of samples for one class $N_\\tau$ can be zero.\n",
        "You need to decide how you handle this."
      ]
    },
    {
      "cell_type": "code",
      "execution_count": 8,
      "metadata": {},
      "outputs": [],
      "source": [
        "def class_weights(targets):\n",
        "    # Number of classes\n",
        "    N_classes = O\n",
        "    # Total number of samples\n",
        "    N = targets.shape[0]\n",
        "    # Count samples per class\n",
        "    N_per_class = torch.zeros(N_classes, dtype=torch.float32, device=targets.device)\n",
        "    for c in range(N_classes):\n",
        "        N_c = torch.sum(targets == c).item()\n",
        "        N_per_class[c] = N_c\n",
        "\n",
        "    # Avoid division by zero: set weight to zero if class is not present\n",
        "    weights = torch.zeros(N_classes, dtype=torch.float32, device=targets.device)\n",
        "    for c in range(N_classes):\n",
        "        if N_per_class[c] > 0:\n",
        "            weights[c] = N / (N_classes * N_per_class[c])\n",
        "        else:\n",
        "            weights[c] = 0.0\n",
        "    return weights"
      ]
    },
    {
      "cell_type": "markdown",
      "metadata": {},
      "source": [
        "#### Test 2: Class Weights\n",
        "Here, we test the functionality of the class weights.\n",
        "Please try to pass this test before going on."
      ]
    },
    {
      "cell_type": "code",
      "execution_count": 9,
      "metadata": {},
      "outputs": [],
      "source": [
        "# create a list of targets, which does not include label 2\n",
        "targets_ = torch.tensor([0]*40 + [1]*20 + [3]*30 + [4]*10, dtype=torch.long)\n",
        "\n",
        "# compute class weights\n",
        "weights_ = class_weights(targets_)\n",
        "\n",
        "# assert that the values are correct; we do not test label 2\n",
        "assert abs(weights_[0] - 0.5) < 1e-6\n",
        "assert abs(weights_[1] - 1.) < 1e-6\n",
        "assert abs(weights_[3] - 2./3.) < 1e-6\n",
        "assert abs(weights_[4] - 2.) < 1e-6"
      ]
    },
    {
      "cell_type": "markdown",
      "metadata": {},
      "source": [
        "#### Task 2.4: Input Data Normalization\n",
        "\n",
        "Since the data is in different input regimes, we want to normalize the data.\n",
        "\n",
        "Implement a function that normalizes input data of all sets using the whitening method with given mean and standard deviation.\n",
        "$$X_{norm} = \\frac{X-\\mu}{\\sigma}$$\n",
        "Compute the mean $\\mu$ and the standard deviation $\\sigma$ for your dataset.\n",
        "\n",
        "Finally, normalize your input data using the implemented function.\n",
        "\n",
        "**Note:** You can use `torch.mean()` and `torch.std()`, or apply the `sklearn.preprocessing.StandardScaler`."
      ]
    },
    {
      "cell_type": "code",
      "execution_count": 10,
      "metadata": {},
      "outputs": [],
      "source": [
        "# Compute mean and std\n",
        "mean = torch.mean(X_train)\n",
        "std = torch.std(X_train)\n",
        "\n",
        "# Normalize all sets\n",
        "X_train_norm = (X_train - mean) / std\n",
        "X_valid_norm = (X_valid - mean) / std\n",
        "X_test_norm = (X_test - mean) / std"
      ]
    },
    {
      "cell_type": "markdown",
      "metadata": {
        "id": "rEhGkNEdaQLy"
      },
      "source": [
        "#### Task 2.5: Dataset and Data Loaders\n",
        "\n",
        "We now have tensors that store data samples.\n",
        "These need to be transformed into a `torch.utils.data.Dataset`, which can be used with a standard `torch.utils.data.DataLoader` to create batches of data.\n",
        "For such simple data structures, `torch` provides such a dataset implementation in `torch.utils.data.TensorDataset`. \n",
        "\n",
        "Create three `torch` datasets and their corresponding data loaders for each set by using `torch.utils.data.TensorDataset` and `torch.utils.data.DataLoader`.\n",
        "The training batch size should be large enough, e.g. $B=256$, for the validation and test sets, you can choose any batch size of your choice."
      ]
    },
    {
      "cell_type": "code",
      "execution_count": 11,
      "metadata": {},
      "outputs": [],
      "source": [
        "# Define batch size\n",
        "B = 64\n",
        "\n",
        "# Dataset and Dataloader for training set\n",
        "train_dataset = torch.utils.data.TensorDataset(X_train_norm, T_train)\n",
        "train_dataloader = torch.utils.data.DataLoader(\n",
        "    train_dataset,\n",
        "    batch_size=B,\n",
        "    shuffle=True,\n",
        "    num_workers=4,\n",
        "    pin_memory=True\n",
        ")\n",
        "\n",
        "\n",
        "# Dataset and Dataloader for validation set\n",
        "valid_dataset = torch.utils.data.TensorDataset(X_valid_norm, T_valid)\n",
        "valid_dataloader = torch.utils.data.DataLoader(\n",
        "    valid_dataset,\n",
        "    batch_size=B,\n",
        "    shuffle=False,\n",
        "    num_workers=4,\n",
        "    pin_memory=True\n",
        ")\n",
        "\n",
        "# Dataset and Dataloader for test set\n",
        "test_dataset = torch.utils.data.TensorDataset(X_test_norm, T_test)\n",
        "test_dataloader = torch.utils.data.DataLoader(\n",
        "    test_dataset,\n",
        "    batch_size=B,\n",
        "    shuffle=False,\n",
        "    num_workers=4,\n",
        "    pin_memory=True\n",
        ")"
      ]
    },
    {
      "cell_type": "markdown",
      "metadata": {},
      "source": [
        "### Network Implementation\n",
        "\n",
        "In this part of the assignment, your goal is to build a deep learning model that can predict sleep stages from sequential EEG signals.\n",
        "\n",
        "To handle the long input sequences efficiently (3000 time steps), you will first implement the 1D convolutional feature extractor that you have designed in Task 2.1.\n",
        "This network compresses the raw EEG signal along the time dimension into several output channels $Q_3$, while preserving key temporal patterns. \n",
        "It acts as a shared backbone for all subsequent model variants.\n",
        "\n",
        "Once the features are extracted, you will explore four different network architectures, each modeling the temporal dependencies in a different way."
      ]
    },
    {
      "cell_type": "markdown",
      "metadata": {},
      "source": [
        "#### Task 2.6: 1D Convolutional Network (Feature Extractor)\n",
        "\n",
        "In this task, you will implement the 1D convolutional feature extractor.\n",
        "For simplicity, you can use `torch.nn.Sequential`. \n",
        "This feature extractor will be used to **process raw EEG signals** and **compress the time dimension** by producing several output channels, which will later be passed to downstream modules such as RNN, LSTM, and Attention-based models, and the classifier.\n",
        "\n",
        "Your feature extractor must follow these conditions:\n",
        "\n",
        "1. It should consist of three `torch.nn.Conv1d` layers with a given number of $Q_3=128$ output channels.\n",
        "\n",
        "2. You are encouraged to apply additional functions in these 3 layers such as:\n",
        "\n",
        "    * Activation functions (e.g., ReLU, GELU) for non-linearity\n",
        "\n",
        "    * `torch.nn.MaxPool1d` to reduce temporal resolution\n",
        "\n",
        "    * `torch.nn.BatchNorm1d` for normalization\n",
        "\n",
        "    * `torch.nn.Dropout` to improve generalization"
      ]
    },
    {
      "cell_type": "code",
      "execution_count": 12,
      "metadata": {},
      "outputs": [],
      "source": [
        "def feature_extractor(output_channels = 128):\n",
        "    return torch.nn.Sequential(\n",
        "        # Layer 1\n",
        "        torch.nn.Conv1d(in_channels=1, out_channels=output_channels, kernel_size=5, stride=1, padding=2),\n",
        "        torch.nn.BatchNorm1d(output_channels),\n",
        "        torch.nn.ReLU(),\n",
        "        torch.nn.MaxPool1d(kernel_size=2, stride=2),\n",
        "        torch.nn.Dropout(0.2),\n",
        "\n",
        "        # Layer 2\n",
        "        torch.nn.Conv1d(output_channels, output_channels, kernel_size=5, stride=1, padding=2),\n",
        "        torch.nn.BatchNorm1d(output_channels),\n",
        "        torch.nn.ReLU(),\n",
        "\n",
        "        # Layer 3\n",
        "        torch.nn.Conv1d(output_channels, output_channels, kernel_size=5, stride=1, padding=2),\n",
        "        torch.nn.BatchNorm1d(output_channels),\n",
        "        torch.nn.ReLU(),\n",
        "    )"
      ]
    },
    {
      "cell_type": "markdown",
      "metadata": {},
      "source": [
        "#### Task 2.7: Design General Sleep Stage Classifier\n",
        "\n",
        "In this task, you will implement **a general sleep stage classification network** using PyTorch's `torch.nn.Module`. \n",
        "This network will support **four different architectural variants**, each built on top of **the same feature extractor** you implemented in **Task 2.6**. \n",
        "All these four different architectural variants make use of **the same classifier**, which is, for example, composed of the following layers:\n",
        "\n",
        "**Classifier:**\n",
        "* Linear layer with 64 hidden units\n",
        "* GELU activation function\n",
        "* Dropout with the probability of 0.3\n",
        "* Linear layer with $O$ output neurons\n",
        "\n",
        "**Model Variants:**\n",
        "\n",
        "Your task is to implement the following model variants in this general sleep stage classification network:\n",
        "1. **Pooling**:\n",
        "    *feature extractor ⟶ Global pooling ⟶ Classifier*\n",
        "\n",
        "    The goal of this model variant is to evaluate how effective the convolution-based feature extractor alone is, without relying on any additional recurrent or attention mechanisms to capture sequence dependencies.\n",
        "    After passing the input through **the feature extractor**, you will directly apply **global pooling** across **the time/sequence dimension** of the output feature map. This global pooling operation condenses each sequence into **a single fixed-size feature vector** for each sample, **summarizing** the learned temporal features into **a compact representation**.\n",
        "\n",
        "    * In PyTorch, you can achieve this by taking the mean/max over the sequence dimension after the feature extractor.\n",
        "\n",
        "    * Feed the summarized representation into the classifier.\n",
        "\n",
        "2. **RNN**:\n",
        "    *feature extractor ⟶ RNN layer ⟶ Final hidden state ⟶ Classifier*\n",
        "\n",
        "    After **the feature extractor**, you will use **a Recurrent Neural Network (RNN) layer** to model **the temporal dependencies** over **the compressed time features** produced by the feature extractor network.\n",
        "\n",
        "    * Use the PyTorch module `torch.nn.RNN` to implement this layer.\n",
        "\n",
        "    * The RNN should consist of **a single layer** with **$128$** hidden units\n",
        "\n",
        "    * Be careful about setting `batch_first` parameter when creating the RNN. **The shape of the input to the RNN must align with this parameter.**\n",
        "\n",
        "    * After the RNN processes the sequence in `forward`, you must correctly determine the output that will be passed to the classifier. Remember that we want to **use the hidden state of the last sequence element**.\n",
        "\n",
        "    * Feed the extracted output into the classifier.\n",
        "\n",
        "    *Hint:* Keep in mind that `Conv1d` and `RNN` layers expect inputs in different dimension orders. Therefore, when connecting these layers, make sure to reshape (`permute`) the tensor appropriately.\n",
        "\n",
        "3. **LSTM**:\n",
        "    *feature extractor ⟶ LSTM layer ⟶ Final hidden state ⟶ Classifier*\n",
        "\n",
        "    After **the feature extractor**, you will use **a Long Short-Term Memory layer** to model **the temporal dependencies** over **the compressed time features** produced by the feature extractor network.\n",
        "\n",
        "    * Use the PyTorch module `torch.nn.LSTM` to implement this layer.\n",
        "\n",
        "    * The LSTM should consist of **a single layer** with **$128$** hidden units\n",
        "\n",
        "    * Be careful about setting `batch_first` parameter when creating the LSTM. **The shape of the input to the LSTM must align with this parameter.**\n",
        "\n",
        "    * After the LSTM processes the sequence in `forward`, you must correctly determine the output that will be passed to the classifier. Remember that we want to **use the hidden state of the last sequence element**.\n",
        "\n",
        "    * Feed the extracted output into the classifier.\n",
        "\n",
        "    *Hint 1:* Be aware that the interfaces of `torch.nn.RNN` and `torch.nn.LSTM` differ in what the `forward` function outputs. Make sure that you adapt your handling of the output accordingly.\n",
        "    \n",
        "    *Hint 2:* Keep in mind that `Conv1d` and `LSTM` layers expect inputs in different dimension orders. Therefore, when connecting these layers, make sure to reshape (permute) the tensor appropriately.\n",
        "\n",
        "4. **Attention + Class Token**:\n",
        "    *feature extractor ⟶ Add Class Token ⟶ Self-Attention ⟶ Extract Class Token ⟶ Classifier*\n",
        "\n",
        "    After passing the input through **the feature extractor**, the compressed sequence features will be further processed by **a self-attention mechanism**. To help the network better summarize the entire sequence information and their temporal relations into **a single representation**, you will introduce a `class token`.\n",
        "\n",
        "    **What is a Class Token?**\n",
        "    A `class token` is **a learnable vector** that is prepended (or appended) to the sequence of features before feeding into the attention module. \n",
        "    During training, the model learns to use this token to gather global information from the entire sequence through the attention mechanism. \n",
        "    This idea is inspired by techniques used in transformer architectures like ViT (Vision Transformer) and has proven effective for tasks that require summarizing a sequence into a fixed-size output.\n",
        "\n",
        "    * Create a `class_token` parameter using `torch.nn.Parameter` and initialize it with a normal distribution $\\mathcal{N}(0, 1)$ within **correct shape** inside `__init__` method.\n",
        "\n",
        "    * Define `self_attention` layer using PyTorch’s `torch.nn.MultiheadAttention` module inside `__init__` method, with **one attention head** and an **embedding dimension of 128**. *This layer internally constructs the query $\\mathbf W^{(Q)}$, key $\\mathbf W^{(K)}$ and value matrices $\\mathbf W^{(V)}$ used during attention computation.*\n",
        "\n",
        "    * Be careful about setting `batch_first` parameter when defining the `self_attention`. **The shape of the input to the attention module must align with this parameter.**\n",
        "\n",
        "    * In `forward`, add (concatenate) the class token to the beginning or end of the feature sequence after the feature extractor. Make sure that the same class token is replicated for all batch elements.\n",
        "\n",
        "    * Apply `self_attention` over the extended sequence (including the class token).\n",
        "\n",
        "    * After the attention operation, extract the transformed `class_token` (based on where you inserted it).\n",
        "\n",
        "    * Feed the extracted class token into the classifier.\n",
        "\n",
        "    *Hint 1:* You are expected to use the final class token after attention, which represents the entire input sequence.\n",
        "    \n",
        "    *Hint 2:* Keep in mind that `Conv1d` and `MultiheadAttention` layers expect inputs in different dimension orders. Therefore, when connecting these layers, make sure to reshape (permute) the tensor appropriately.\n",
        "\n",
        "To keep the model implementation clean and organized, you are encouraged to use Python's **match-case statement** (available in Python 3.10 and above) to handle the different model behaviors in the `forward` function.\n",
        "This avoids long `if ... elif ...` chains and makes the architecture selection more readable and efficient.\n",
        "\n",
        "\n",
        "**Advice:** \n",
        "This is surely the most difficult part of this assignment.\n",
        "Maybe it would be advisable to implement and test this piece by piece, starting with the most simple network (Global Pooling), then implement the training code in Task 2.8, and run the training in Task 2.9. \n",
        "Only after you have achieved reasonable results, attempt to implement the RNN and LSTM networks, and run their training in Task 2.9.\n",
        "Finally, implement the attention-based part of the network, which requires more effort and debugging.\n",
        "**Good luck!**"
      ]
    },
    {
      "cell_type": "code",
      "execution_count": null,
      "metadata": {},
      "outputs": [],
      "source": [
        "class SleepStageClassifier(torch.nn.Module):\n",
        "\n",
        "    def __init__(self, model_type, hidden_size = 128, O = O):\n",
        "        super().__init__()\n",
        "\n",
        "        # Define the extractor and model type\n",
        "        self.feature_extractor = feature_extractor()\n",
        "        self.model_type = model_type\n",
        "\n",
        "        # Define the classifier that will be used for all model         \n",
        "        self.classifier = torch.nn.Sequential(\n",
        "            torch.nn.Linear(hidden_size, hidden_size),\n",
        "            torch.nn.ReLU(),\n",
        "            torch.nn.Dropout(0.2),\n",
        "            torch.nn.Linear(hidden_size, O)\n",
        "        )\n",
        "\n",
        "    # Define optional layers based on model typen model type\n",
        "        match model_type:\n",
        "            case \"pool\":\n",
        "                # anything to be done here?\n",
        "                pass\n",
        "                \n",
        "            case \"rnn\":\n",
        "                self.rnn = torch.nn.RNN(\n",
        "                    input_size=128,\n",
        "                    hidden_size=hidden_size,\n",
        "                    num_layers=1,\n",
        "                    batch_first=True,\n",
        "                    bidirectional=False\n",
        "                )\n",
        "\n",
        "            case \"lstm\":\n",
        "                # Define LSTM layer\n",
        "                self.lstm = torch.nn.LSTM(\n",
        "                    input_size=128,\n",
        "                    hidden_size=hidden_size,\n",
        "                    num_layers=1,\n",
        "                    batch_first=True,\n",
        "                    bidirectional=False\n",
        "                )       \n",
        "\n",
        "            case \"attn\":\n",
        "                # Define Attention layer\n",
        "                self.attn = torch.nn.MultiheadAttention(\n",
        "                    embed_dim=hidden_size,\n",
        "                    num_heads=1,\n",
        "                    batch_first=True\n",
        "                )\n",
        "\n",
        "                # Create a learnable class token initialized from a normal distribution, ensuring it has the correct shape\n",
        "                self.class_token = torch.nn.Parameter(\n",
        "                    torch.randn(1, 1, hidden_size)\n",
        "                )\n",
        "\n",
        "    def forward(self, x):\n",
        "\n",
        "        # Pass through         # What should we do here?\n",
        "        x = self.feature_extractor(x)  # shape: (B, 128, 1500)\n",
        "        # Reshape to (B, 1500, 128) for RNN/LSTM/Attention layers the next x = x.permute(0, 2, 1)\n",
        "        match self.model_type:\n",
        "            case \"pool\":\n",
        "                # Global average pooling\n",
        "                x = torch.nn.functional.adaptive_avg_pool1d(x, 1)\n",
        "                x = x.squeeze(-1)\n",
        "\n",
        "            case \"rnn\":\n",
        "                # Reshape to (B, 1500, 128) for RNN layer\n",
        "                x = x.permute(0, 2, 1)\n",
        "                # Apply RNN layer\n",
        "                x, _ = self.rnn(x)\n",
        "                # Extract correct feature\n",
        "                x = x[:, -1, :]\n",
        "\n",
        "            case \"lstm\":\n",
        "                # Reshape to (B, 1500, 128) for LSTM layer\n",
        "                x = x.permute(0, 2, 1)\n",
        "                # Apply LSTM layer\n",
        "                x, _ = self.lstm(x)\n",
        "                # Extract correct feature\n",
        "                x = x[:, -1, :]\n",
        "\n",
        "            case \"attn\":\n",
        "                # Reshape to (B, 1500, 128) for Attention layer\n",
        "                x = x.permute(0, 2, 1)\n",
        "                # Repeat the learnable class token for each batch\n",
        "                cls_token = self.class_token.expand(x.size(0), -1, -1)\n",
        "\n",
        "                # concatenate cls_token to input sequence\n",
        "                x = torch.cat((cls_token, x), dim=1)\n",
        "\n",
        "                # Apply attention\n",
        "                x, _ = self.attn(x, x, x)\n",
        "\n",
        "                # Extract updated class token\n",
        "                x = x[:, 0, :]\n",
        "\n",
        "        # Pass through classifier\n",
        "        x = self.classifier(x)\n",
        "\n",
        "        return x\n"
      ]
    },
    {
      "cell_type": "markdown",
      "metadata": {},
      "source": [
        "### Network Training\n",
        "In this section, you will implement a training loop function that handles the model optimization process.\n",
        "Using this function, you will train all four model variants (Global Pooling, RNN, LSTM, Attention) on the prepared EEG dataset."
      ]
    },
    {
      "cell_type": "markdown",
      "metadata": {},
      "source": [
        "#### Task 2.8: Training Loop\n",
        "\n",
        "In this section, you will implement a **training loop function** to optimize your sleep stage classification models.\n",
        "The goal is to train all four model variants on the prepared dataset and compare their performance under different loss-weighting strategies.\n",
        "\n",
        "You will begin by training each model using **the standard categorical cross-entropy loss** to establish a baseline and compare the performance of the four models to understand how well each architecture handles the task.\n",
        "After that, you will apply two methods: **Class-Weighted Cross Entropy** and **DynaMit (Dynamic Bias Mitigation)** to help **mitigate the class imbalance problem** commonly found in sleep stage data.\n",
        "Therefore, the function should support these three methods for use in the upcoming training tasks, based on the input parameter `weighting_strategy`, see below.\n",
        "Specifically, you will experiment with the following three approaches:\n",
        "\n",
        "1. **Standard Cross Entropy Loss**\n",
        "    \n",
        "    When `weighting_strategy = \"none\"`, standard cross-entropy loss should be used.\n",
        "\n",
        "2. **Class-Weighted Cross Entropy**\n",
        "\n",
        "    When `weighting_strategy = \"global\"`, global weights shall be computed. This can be achieved by calling the `class_weights` function defined in Task 2.3, using the appropriate targets from the dataset.\n",
        "\n",
        "3. **DynaMit**\n",
        "\n",
        "    When `weighting_strategy = \"dynamit\"`, per-batch weights shall be computed. This can be achieved by calling the `class_weights` function defined in Task 2.3, using the targets for the current batch.\n",
        "\n",
        "*Hint:* You can use the functional variation of cross-entropy loss, which is defined as `torch.nn.functional.cross_entropy`, where you can pass the logits, the targets and the class weights. \n",
        "Note that this requires the class weights to be on the same device as the logits and the targets.\n",
        "\n",
        "**Here's a clean and concise description of what the training function should do:**\n",
        "\n",
        "* Support three loss strategies\n",
        "\n",
        "* Use the **SGD optimizer** with **$\\eta=0.01$** and momentum of 0.9 for model parameter updates.\n",
        "\n",
        "* Perform a training loop over the training dataset.\n",
        "\n",
        "* Run a validation loop on the validation dataset after each epoch.\n",
        "\n",
        "* Track and store the **average training loss** and **validation accuracy** after each epoch for monitoring convergence.\n",
        "\n",
        "* Return the **training losses** and **validation accuracies**."
      ]
    },
    {
      "cell_type": "code",
      "execution_count": 14,
      "metadata": {},
      "outputs": [],
      "source": [
        "def train(model,  weighting_strategy=\"none\", epochs=30):\n",
        "\n",
        "    if weighting_strategy not in (\"none\", \"global\", \"dynamit\"):\n",
        "        raise ValueError(\"The given weighting strategy '{weighting_strategy}' is not known\")\n",
        "\n",
        "    # Send the model device\n",
        "    model = model.to(device)\n",
        "\n",
        "    # Define optimizer\n",
        "    optimizer = torch.optim.Adam(model.parameters(), lr=1e-3)\n",
        "\n",
        "    # anything else to be initialized when weighting_strategy == \"global\"?\n",
        "    if weighting_strategy == \"global\":\n",
        "        # Compute class weights\n",
        "        weights = class_weights(T_train)\n",
        "        # Move weights to device\n",
        "        weights = weights.to(device)\n",
        "        # Define loss function with class weights\n",
        "        criterion = torch.nn.CrossEntropyLoss(weight=weights)\n",
        "\n",
        "    # Store average training loss and validation accuracy\n",
        "    train_losses, valid_accuracies = [], []\n",
        "\n",
        "    for epoch in range(epochs):\n",
        "\n",
        "        # Training\n",
        "        total_loss = 0\n",
        "        model.train()\n",
        "\n",
        "        for x, t in train_dataloader:\n",
        "\n",
        "            # determine class weights on the target batch when weighting_strategy == \"dynamit\"\n",
        "            # hint: do this before putting the targets to the device\n",
        "            if weighting_strategy == \"dynamit\":\n",
        "                # Compute class weights\n",
        "                weights = class_weights(t)\n",
        "\n",
        "            # forward the batch through the model\n",
        "            x = x.to(device)\n",
        "            t = t.to(device)\n",
        "\n",
        "            # compute loss\n",
        "            # here, the simplest is to make use of torch.nn.functional.cross_entropy\n",
        "            J = torch.nn.functional.cross_entropy(model(x), t, weight=weights if weighting_strategy == \"dynamit\" else None)\n",
        "\n",
        "            # perform weight update step\n",
        "            optimizer.zero_grad()\n",
        "            J.backward()\n",
        "\n",
        "            # aggregate training loss\n",
        "            total_loss += J.item()\n",
        "            optimizer.step()\n",
        "\n",
        "        # Compute avgerage training loss\n",
        "        avg_train_loss = total_loss / len(train_dataloader)\n",
        "        # Track training loss\n",
        "        train_losses.append(avg_train_loss)\n",
        "\n",
        "        # compute validation accuracy\n",
        "        model.eval()\n",
        "        valid_accuracy = 0\n",
        "        with torch.no_grad():\n",
        "            for x, t in valid_dataloader:\n",
        "                # forward the batch through the model\n",
        "                x = x.to(device)\n",
        "                t = t.to(device)\n",
        "\n",
        "                # compute accuracy\n",
        "                y = model(x)\n",
        "                _, predicted = torch.max(y, 1)\n",
        "                valid_accuracy += (predicted == t).sum().item()\n",
        "\n",
        "        # Track validation accuracy\n",
        "        valid_accuracies.append(valid_accuracy)\n",
        "\n",
        "        print(f\"Epoch [{epoch+1}/{epochs}] -- Train Loss: {avg_train_loss:.4f} -- Val Acc: {valid_accuracy*100:.2f}%\")\n",
        "\n",
        "    return train_losses, valid_accuracies"
      ]
    },
    {
      "cell_type": "markdown",
      "metadata": {},
      "source": [
        "#### Task 2.9: Plot Training Loss and Validation Accuracy\n",
        "In this task, you will implement a function that plots the training loss and validation accuracy over epochs to visually assess the model's learning progress. \n",
        "These plots help determine whether the model is converging, overfitting, or underfitting during training. \n",
        "\n",
        "Smoothly decreasing training loss and increasing validation accuracy typically indicate good convergence."
      ]
    },
    {
      "cell_type": "code",
      "execution_count": 15,
      "metadata": {},
      "outputs": [],
      "source": [
        "def plot(train_losses, valid_accuracies):\n",
        "    # --- Plot Training Loss & Validation Accuracy ---\n",
        "\n",
        "    fig, ax = pyplot.subplots(figsize=(8, 5))\n",
        "\n",
        "    # Training loss (Left Y-axis)\n",
        "    ax.plot(range(len(train_losses)), train_losses, label=\"Training Loss\", color='b', marker='o')\n",
        "    ax.set_xlabel(\"Epoch\")\n",
        "    ax.set_ylabel(\"Loss\", color='b')\n",
        "    ax.tick_params(axis='y', labelcolor='b')\n",
        "\n",
        "    # Validation Accuracy (Right Y-axis)\n",
        "    ax2 =    ax.twinx()\n",
        "    ax2.plot(range(len(valid_accuracies)), valid_accuracies, label=\"Validation Accuracy\", color='g', linestyle=\"dashed\")\n",
        "    ax2.set_ylabel(\"Accuracy (%)\", color='g')\n",
        "    ax2.tick_params(axis='y', labelcolor='g')\n",
        "\n",
        "    # Titles and Legends\n",
        "    pyplot.title(\"Training Loss vs Validation Accuracy\")\n",
        "    ax.legend(loc=\"upper left\")\n",
        "    ax2.legend(loc=\"lower left\")\n",
        "\n",
        "    pyplot.grid(True, linestyle=\"--\", alpha=0.6)\n",
        "    pyplot.show()"
      ]
    },
    {
      "cell_type": "markdown",
      "metadata": {},
      "source": [
        "#### Task 2.10: Train Four Model Variants with Standard Categorical Cross Entropy\n",
        "\n",
        "In this task, you will train **all four model variants** using **the standard categorical cross-entropy loss** to compare different model topologies for sleep stage classification. \n",
        "Each model uses the same feature extractor topology and classifier head, but differs in **how it models temporal dependencies** (e.g., RNN, LSTM, Attention). \n",
        "\n",
        "Your goal is to evaluate **how well each architecture performs without any special handling for class imbalance**.\n",
        "\n",
        "*Follow these steps for each model variant:*\n",
        "\n",
        "* Initialize the model variant with the appropriate `model_type` (using previously implemented network class)\n",
        "\n",
        "* Run the training loop (using previously implemented training function) for **30 epochs** or more.\n",
        "\n",
        "* Plot the training results to monitor learning progress and performance.\n",
        "\n",
        "Once trained, you will be able to compare the performance of all four model variants under the same training conditions.\n",
        "\n",
        "**<font color='red' size='3'>WARNING: The RNN model might not perform well. Maybe work on the Global Pooling model first, and then directly transition to the LSTM. Keep the RNN for later.</font>**"
      ]
    },
    {
      "cell_type": "code",
      "execution_count": 16,
      "metadata": {},
      "outputs": [
        {
          "name": "stderr",
          "output_type": "stream",
          "text": [
            "c:\\Users\\aster\\projects-source\\deep-learning-exercises\\05\\venv\\Lib\\site-packages\\torch\\utils\\data\\dataloader.py:665: UserWarning: 'pin_memory' argument is set as true but no accelerator is found, then device pinned memory won't be used.\n",
            "  warnings.warn(warn_msg)\n"
          ]
        },
        {
          "name": "stdout",
          "output_type": "stream",
          "text": [
            "Epoch [1/30] -- Train Loss: 0.7370 -- Val Acc: 194900.00%\n",
            "Epoch [2/30] -- Train Loss: 0.5515 -- Val Acc: 206400.00%\n"
          ]
        },
        {
          "ename": "KeyboardInterrupt",
          "evalue": "",
          "output_type": "error",
          "traceback": [
            "\u001b[31m---------------------------------------------------------------------------\u001b[39m",
            "\u001b[31mKeyboardInterrupt\u001b[39m                         Traceback (most recent call last)",
            "\u001b[36mCell\u001b[39m\u001b[36m \u001b[39m\u001b[32mIn[16]\u001b[39m\u001b[32m, line 7\u001b[39m\n\u001b[32m      4\u001b[39m pooled_model = SleepStageClassifier(model_type=\u001b[33m\"\u001b[39m\u001b[33mpool\u001b[39m\u001b[33m\"\u001b[39m, hidden_size=\u001b[32m128\u001b[39m, O=O)\n\u001b[32m      6\u001b[39m \u001b[38;5;66;03m# Run the training\u001b[39;00m\n\u001b[32m----> \u001b[39m\u001b[32m7\u001b[39m pooled_train_losses, pooled_valid_accuracies = \u001b[43mtrain\u001b[49m\u001b[43m(\u001b[49m\u001b[43mpooled_model\u001b[49m\u001b[43m,\u001b[49m\u001b[43m \u001b[49m\u001b[43mweighting_strategy\u001b[49m\u001b[43m=\u001b[49m\u001b[33;43m\"\u001b[39;49m\u001b[33;43mnone\u001b[39;49m\u001b[33;43m\"\u001b[39;49m\u001b[43m,\u001b[49m\u001b[43m \u001b[49m\u001b[43mepochs\u001b[49m\u001b[43m=\u001b[49m\u001b[32;43m30\u001b[39;49m\u001b[43m)\u001b[49m\n\u001b[32m      9\u001b[39m \u001b[38;5;66;03m# Plot training results\u001b[39;00m\n\u001b[32m     10\u001b[39m plot(pooled_train_losses, pooled_valid_accuracies)\n",
            "\u001b[36mCell\u001b[39m\u001b[36m \u001b[39m\u001b[32mIn[14]\u001b[39m\u001b[32m, line 69\u001b[39m, in \u001b[36mtrain\u001b[39m\u001b[34m(model, weighting_strategy, epochs)\u001b[39m\n\u001b[32m     66\u001b[39m t = t.to(device)\n\u001b[32m     68\u001b[39m \u001b[38;5;66;03m# compute accuracy\u001b[39;00m\n\u001b[32m---> \u001b[39m\u001b[32m69\u001b[39m y = \u001b[43mmodel\u001b[49m\u001b[43m(\u001b[49m\u001b[43mx\u001b[49m\u001b[43m)\u001b[49m\n\u001b[32m     70\u001b[39m _, predicted = torch.max(y, \u001b[32m1\u001b[39m)\n\u001b[32m     71\u001b[39m valid_accuracy += (predicted == t).sum().item()\n",
            "\u001b[36mFile \u001b[39m\u001b[32mc:\\Users\\aster\\projects-source\\deep-learning-exercises\\05\\venv\\Lib\\site-packages\\torch\\nn\\modules\\module.py:1751\u001b[39m, in \u001b[36mModule._wrapped_call_impl\u001b[39m\u001b[34m(self, *args, **kwargs)\u001b[39m\n\u001b[32m   1749\u001b[39m     \u001b[38;5;28;01mreturn\u001b[39;00m \u001b[38;5;28mself\u001b[39m._compiled_call_impl(*args, **kwargs)  \u001b[38;5;66;03m# type: ignore[misc]\u001b[39;00m\n\u001b[32m   1750\u001b[39m \u001b[38;5;28;01melse\u001b[39;00m:\n\u001b[32m-> \u001b[39m\u001b[32m1751\u001b[39m     \u001b[38;5;28;01mreturn\u001b[39;00m \u001b[38;5;28;43mself\u001b[39;49m\u001b[43m.\u001b[49m\u001b[43m_call_impl\u001b[49m\u001b[43m(\u001b[49m\u001b[43m*\u001b[49m\u001b[43margs\u001b[49m\u001b[43m,\u001b[49m\u001b[43m \u001b[49m\u001b[43m*\u001b[49m\u001b[43m*\u001b[49m\u001b[43mkwargs\u001b[49m\u001b[43m)\u001b[49m\n",
            "\u001b[36mFile \u001b[39m\u001b[32mc:\\Users\\aster\\projects-source\\deep-learning-exercises\\05\\venv\\Lib\\site-packages\\torch\\nn\\modules\\module.py:1762\u001b[39m, in \u001b[36mModule._call_impl\u001b[39m\u001b[34m(self, *args, **kwargs)\u001b[39m\n\u001b[32m   1757\u001b[39m \u001b[38;5;66;03m# If we don't have any hooks, we want to skip the rest of the logic in\u001b[39;00m\n\u001b[32m   1758\u001b[39m \u001b[38;5;66;03m# this function, and just call forward.\u001b[39;00m\n\u001b[32m   1759\u001b[39m \u001b[38;5;28;01mif\u001b[39;00m \u001b[38;5;129;01mnot\u001b[39;00m (\u001b[38;5;28mself\u001b[39m._backward_hooks \u001b[38;5;129;01mor\u001b[39;00m \u001b[38;5;28mself\u001b[39m._backward_pre_hooks \u001b[38;5;129;01mor\u001b[39;00m \u001b[38;5;28mself\u001b[39m._forward_hooks \u001b[38;5;129;01mor\u001b[39;00m \u001b[38;5;28mself\u001b[39m._forward_pre_hooks\n\u001b[32m   1760\u001b[39m         \u001b[38;5;129;01mor\u001b[39;00m _global_backward_pre_hooks \u001b[38;5;129;01mor\u001b[39;00m _global_backward_hooks\n\u001b[32m   1761\u001b[39m         \u001b[38;5;129;01mor\u001b[39;00m _global_forward_hooks \u001b[38;5;129;01mor\u001b[39;00m _global_forward_pre_hooks):\n\u001b[32m-> \u001b[39m\u001b[32m1762\u001b[39m     \u001b[38;5;28;01mreturn\u001b[39;00m \u001b[43mforward_call\u001b[49m\u001b[43m(\u001b[49m\u001b[43m*\u001b[49m\u001b[43margs\u001b[49m\u001b[43m,\u001b[49m\u001b[43m \u001b[49m\u001b[43m*\u001b[49m\u001b[43m*\u001b[49m\u001b[43mkwargs\u001b[49m\u001b[43m)\u001b[49m\n\u001b[32m   1764\u001b[39m result = \u001b[38;5;28;01mNone\u001b[39;00m\n\u001b[32m   1765\u001b[39m called_always_called_hooks = \u001b[38;5;28mset\u001b[39m()\n",
            "\u001b[36mCell\u001b[39m\u001b[36m \u001b[39m\u001b[32mIn[13]\u001b[39m\u001b[32m, line 58\u001b[39m, in \u001b[36mSleepStageClassifier.forward\u001b[39m\u001b[34m(self, x)\u001b[39m\n\u001b[32m     55\u001b[39m \u001b[38;5;28;01mdef\u001b[39;00m\u001b[38;5;250m \u001b[39m\u001b[34mforward\u001b[39m(\u001b[38;5;28mself\u001b[39m, x):\n\u001b[32m     56\u001b[39m \n\u001b[32m     57\u001b[39m     \u001b[38;5;66;03m# Pass through         # What should we do here?\u001b[39;00m\n\u001b[32m---> \u001b[39m\u001b[32m58\u001b[39m     x = \u001b[38;5;28;43mself\u001b[39;49m\u001b[43m.\u001b[49m\u001b[43mfeature_extractor\u001b[49m\u001b[43m(\u001b[49m\u001b[43mx\u001b[49m\u001b[43m)\u001b[49m  \u001b[38;5;66;03m# shape: (B, 128, 1500)\u001b[39;00m\n\u001b[32m     59\u001b[39m     \u001b[38;5;66;03m# Reshape to (B, 1500, 128) for RNN/LSTM/Attention layers the next x = x.permute(0, 2, 1)\u001b[39;00m\n\u001b[32m     60\u001b[39m     \u001b[38;5;28;01mmatch\u001b[39;00m \u001b[38;5;28mself\u001b[39m.model_type:\n",
            "\u001b[36mFile \u001b[39m\u001b[32mc:\\Users\\aster\\projects-source\\deep-learning-exercises\\05\\venv\\Lib\\site-packages\\torch\\nn\\modules\\module.py:1751\u001b[39m, in \u001b[36mModule._wrapped_call_impl\u001b[39m\u001b[34m(self, *args, **kwargs)\u001b[39m\n\u001b[32m   1749\u001b[39m     \u001b[38;5;28;01mreturn\u001b[39;00m \u001b[38;5;28mself\u001b[39m._compiled_call_impl(*args, **kwargs)  \u001b[38;5;66;03m# type: ignore[misc]\u001b[39;00m\n\u001b[32m   1750\u001b[39m \u001b[38;5;28;01melse\u001b[39;00m:\n\u001b[32m-> \u001b[39m\u001b[32m1751\u001b[39m     \u001b[38;5;28;01mreturn\u001b[39;00m \u001b[38;5;28;43mself\u001b[39;49m\u001b[43m.\u001b[49m\u001b[43m_call_impl\u001b[49m\u001b[43m(\u001b[49m\u001b[43m*\u001b[49m\u001b[43margs\u001b[49m\u001b[43m,\u001b[49m\u001b[43m \u001b[49m\u001b[43m*\u001b[49m\u001b[43m*\u001b[49m\u001b[43mkwargs\u001b[49m\u001b[43m)\u001b[49m\n",
            "\u001b[36mFile \u001b[39m\u001b[32mc:\\Users\\aster\\projects-source\\deep-learning-exercises\\05\\venv\\Lib\\site-packages\\torch\\nn\\modules\\module.py:1762\u001b[39m, in \u001b[36mModule._call_impl\u001b[39m\u001b[34m(self, *args, **kwargs)\u001b[39m\n\u001b[32m   1757\u001b[39m \u001b[38;5;66;03m# If we don't have any hooks, we want to skip the rest of the logic in\u001b[39;00m\n\u001b[32m   1758\u001b[39m \u001b[38;5;66;03m# this function, and just call forward.\u001b[39;00m\n\u001b[32m   1759\u001b[39m \u001b[38;5;28;01mif\u001b[39;00m \u001b[38;5;129;01mnot\u001b[39;00m (\u001b[38;5;28mself\u001b[39m._backward_hooks \u001b[38;5;129;01mor\u001b[39;00m \u001b[38;5;28mself\u001b[39m._backward_pre_hooks \u001b[38;5;129;01mor\u001b[39;00m \u001b[38;5;28mself\u001b[39m._forward_hooks \u001b[38;5;129;01mor\u001b[39;00m \u001b[38;5;28mself\u001b[39m._forward_pre_hooks\n\u001b[32m   1760\u001b[39m         \u001b[38;5;129;01mor\u001b[39;00m _global_backward_pre_hooks \u001b[38;5;129;01mor\u001b[39;00m _global_backward_hooks\n\u001b[32m   1761\u001b[39m         \u001b[38;5;129;01mor\u001b[39;00m _global_forward_hooks \u001b[38;5;129;01mor\u001b[39;00m _global_forward_pre_hooks):\n\u001b[32m-> \u001b[39m\u001b[32m1762\u001b[39m     \u001b[38;5;28;01mreturn\u001b[39;00m \u001b[43mforward_call\u001b[49m\u001b[43m(\u001b[49m\u001b[43m*\u001b[49m\u001b[43margs\u001b[49m\u001b[43m,\u001b[49m\u001b[43m \u001b[49m\u001b[43m*\u001b[49m\u001b[43m*\u001b[49m\u001b[43mkwargs\u001b[49m\u001b[43m)\u001b[49m\n\u001b[32m   1764\u001b[39m result = \u001b[38;5;28;01mNone\u001b[39;00m\n\u001b[32m   1765\u001b[39m called_always_called_hooks = \u001b[38;5;28mset\u001b[39m()\n",
            "\u001b[36mFile \u001b[39m\u001b[32mc:\\Users\\aster\\projects-source\\deep-learning-exercises\\05\\venv\\Lib\\site-packages\\torch\\nn\\modules\\container.py:240\u001b[39m, in \u001b[36mSequential.forward\u001b[39m\u001b[34m(self, input)\u001b[39m\n\u001b[32m    238\u001b[39m \u001b[38;5;28;01mdef\u001b[39;00m\u001b[38;5;250m \u001b[39m\u001b[34mforward\u001b[39m(\u001b[38;5;28mself\u001b[39m, \u001b[38;5;28minput\u001b[39m):\n\u001b[32m    239\u001b[39m     \u001b[38;5;28;01mfor\u001b[39;00m module \u001b[38;5;129;01min\u001b[39;00m \u001b[38;5;28mself\u001b[39m:\n\u001b[32m--> \u001b[39m\u001b[32m240\u001b[39m         \u001b[38;5;28minput\u001b[39m = \u001b[43mmodule\u001b[49m\u001b[43m(\u001b[49m\u001b[38;5;28;43minput\u001b[39;49m\u001b[43m)\u001b[49m\n\u001b[32m    241\u001b[39m     \u001b[38;5;28;01mreturn\u001b[39;00m \u001b[38;5;28minput\u001b[39m\n",
            "\u001b[36mFile \u001b[39m\u001b[32mc:\\Users\\aster\\projects-source\\deep-learning-exercises\\05\\venv\\Lib\\site-packages\\torch\\nn\\modules\\module.py:1751\u001b[39m, in \u001b[36mModule._wrapped_call_impl\u001b[39m\u001b[34m(self, *args, **kwargs)\u001b[39m\n\u001b[32m   1749\u001b[39m     \u001b[38;5;28;01mreturn\u001b[39;00m \u001b[38;5;28mself\u001b[39m._compiled_call_impl(*args, **kwargs)  \u001b[38;5;66;03m# type: ignore[misc]\u001b[39;00m\n\u001b[32m   1750\u001b[39m \u001b[38;5;28;01melse\u001b[39;00m:\n\u001b[32m-> \u001b[39m\u001b[32m1751\u001b[39m     \u001b[38;5;28;01mreturn\u001b[39;00m \u001b[38;5;28;43mself\u001b[39;49m\u001b[43m.\u001b[49m\u001b[43m_call_impl\u001b[49m\u001b[43m(\u001b[49m\u001b[43m*\u001b[49m\u001b[43margs\u001b[49m\u001b[43m,\u001b[49m\u001b[43m \u001b[49m\u001b[43m*\u001b[49m\u001b[43m*\u001b[49m\u001b[43mkwargs\u001b[49m\u001b[43m)\u001b[49m\n",
            "\u001b[36mFile \u001b[39m\u001b[32mc:\\Users\\aster\\projects-source\\deep-learning-exercises\\05\\venv\\Lib\\site-packages\\torch\\nn\\modules\\module.py:1762\u001b[39m, in \u001b[36mModule._call_impl\u001b[39m\u001b[34m(self, *args, **kwargs)\u001b[39m\n\u001b[32m   1757\u001b[39m \u001b[38;5;66;03m# If we don't have any hooks, we want to skip the rest of the logic in\u001b[39;00m\n\u001b[32m   1758\u001b[39m \u001b[38;5;66;03m# this function, and just call forward.\u001b[39;00m\n\u001b[32m   1759\u001b[39m \u001b[38;5;28;01mif\u001b[39;00m \u001b[38;5;129;01mnot\u001b[39;00m (\u001b[38;5;28mself\u001b[39m._backward_hooks \u001b[38;5;129;01mor\u001b[39;00m \u001b[38;5;28mself\u001b[39m._backward_pre_hooks \u001b[38;5;129;01mor\u001b[39;00m \u001b[38;5;28mself\u001b[39m._forward_hooks \u001b[38;5;129;01mor\u001b[39;00m \u001b[38;5;28mself\u001b[39m._forward_pre_hooks\n\u001b[32m   1760\u001b[39m         \u001b[38;5;129;01mor\u001b[39;00m _global_backward_pre_hooks \u001b[38;5;129;01mor\u001b[39;00m _global_backward_hooks\n\u001b[32m   1761\u001b[39m         \u001b[38;5;129;01mor\u001b[39;00m _global_forward_hooks \u001b[38;5;129;01mor\u001b[39;00m _global_forward_pre_hooks):\n\u001b[32m-> \u001b[39m\u001b[32m1762\u001b[39m     \u001b[38;5;28;01mreturn\u001b[39;00m \u001b[43mforward_call\u001b[49m\u001b[43m(\u001b[49m\u001b[43m*\u001b[49m\u001b[43margs\u001b[49m\u001b[43m,\u001b[49m\u001b[43m \u001b[49m\u001b[43m*\u001b[49m\u001b[43m*\u001b[49m\u001b[43mkwargs\u001b[49m\u001b[43m)\u001b[49m\n\u001b[32m   1764\u001b[39m result = \u001b[38;5;28;01mNone\u001b[39;00m\n\u001b[32m   1765\u001b[39m called_always_called_hooks = \u001b[38;5;28mset\u001b[39m()\n",
            "\u001b[36mFile \u001b[39m\u001b[32mc:\\Users\\aster\\projects-source\\deep-learning-exercises\\05\\venv\\Lib\\site-packages\\torch\\nn\\modules\\conv.py:375\u001b[39m, in \u001b[36mConv1d.forward\u001b[39m\u001b[34m(self, input)\u001b[39m\n\u001b[32m    374\u001b[39m \u001b[38;5;28;01mdef\u001b[39;00m\u001b[38;5;250m \u001b[39m\u001b[34mforward\u001b[39m(\u001b[38;5;28mself\u001b[39m, \u001b[38;5;28minput\u001b[39m: Tensor) -> Tensor:\n\u001b[32m--> \u001b[39m\u001b[32m375\u001b[39m     \u001b[38;5;28;01mreturn\u001b[39;00m \u001b[38;5;28;43mself\u001b[39;49m\u001b[43m.\u001b[49m\u001b[43m_conv_forward\u001b[49m\u001b[43m(\u001b[49m\u001b[38;5;28;43minput\u001b[39;49m\u001b[43m,\u001b[49m\u001b[43m \u001b[49m\u001b[38;5;28;43mself\u001b[39;49m\u001b[43m.\u001b[49m\u001b[43mweight\u001b[49m\u001b[43m,\u001b[49m\u001b[43m \u001b[49m\u001b[38;5;28;43mself\u001b[39;49m\u001b[43m.\u001b[49m\u001b[43mbias\u001b[49m\u001b[43m)\u001b[49m\n",
            "\u001b[36mFile \u001b[39m\u001b[32mc:\\Users\\aster\\projects-source\\deep-learning-exercises\\05\\venv\\Lib\\site-packages\\torch\\nn\\modules\\conv.py:370\u001b[39m, in \u001b[36mConv1d._conv_forward\u001b[39m\u001b[34m(self, input, weight, bias)\u001b[39m\n\u001b[32m    358\u001b[39m \u001b[38;5;28;01mif\u001b[39;00m \u001b[38;5;28mself\u001b[39m.padding_mode != \u001b[33m\"\u001b[39m\u001b[33mzeros\u001b[39m\u001b[33m\"\u001b[39m:\n\u001b[32m    359\u001b[39m     \u001b[38;5;28;01mreturn\u001b[39;00m F.conv1d(\n\u001b[32m    360\u001b[39m         F.pad(\n\u001b[32m    361\u001b[39m             \u001b[38;5;28minput\u001b[39m, \u001b[38;5;28mself\u001b[39m._reversed_padding_repeated_twice, mode=\u001b[38;5;28mself\u001b[39m.padding_mode\n\u001b[32m   (...)\u001b[39m\u001b[32m    368\u001b[39m         \u001b[38;5;28mself\u001b[39m.groups,\n\u001b[32m    369\u001b[39m     )\n\u001b[32m--> \u001b[39m\u001b[32m370\u001b[39m \u001b[38;5;28;01mreturn\u001b[39;00m \u001b[43mF\u001b[49m\u001b[43m.\u001b[49m\u001b[43mconv1d\u001b[49m\u001b[43m(\u001b[49m\n\u001b[32m    371\u001b[39m \u001b[43m    \u001b[49m\u001b[38;5;28;43minput\u001b[39;49m\u001b[43m,\u001b[49m\u001b[43m \u001b[49m\u001b[43mweight\u001b[49m\u001b[43m,\u001b[49m\u001b[43m \u001b[49m\u001b[43mbias\u001b[49m\u001b[43m,\u001b[49m\u001b[43m \u001b[49m\u001b[38;5;28;43mself\u001b[39;49m\u001b[43m.\u001b[49m\u001b[43mstride\u001b[49m\u001b[43m,\u001b[49m\u001b[43m \u001b[49m\u001b[38;5;28;43mself\u001b[39;49m\u001b[43m.\u001b[49m\u001b[43mpadding\u001b[49m\u001b[43m,\u001b[49m\u001b[43m \u001b[49m\u001b[38;5;28;43mself\u001b[39;49m\u001b[43m.\u001b[49m\u001b[43mdilation\u001b[49m\u001b[43m,\u001b[49m\u001b[43m \u001b[49m\u001b[38;5;28;43mself\u001b[39;49m\u001b[43m.\u001b[49m\u001b[43mgroups\u001b[49m\n\u001b[32m    372\u001b[39m \u001b[43m\u001b[49m\u001b[43m)\u001b[49m\n",
            "\u001b[31mKeyboardInterrupt\u001b[39m: "
          ]
        }
      ],
      "source": [
        "# ----- Pooled model Training -----\n",
        "\n",
        "# Initialize the mode\n",
        "pooled_model = SleepStageClassifier(model_type=\"pool\", hidden_size=128, O=O)\n",
        "\n",
        "# Run the training\n",
        "pooled_train_losses, pooled_valid_accuracies = train(pooled_model, weighting_strategy=\"none\", epochs=30)\n",
        "\n",
        "# Plot training results\n",
        "plot(pooled_train_losses, pooled_valid_accuracies)\n"
      ]
    },
    {
      "cell_type": "code",
      "execution_count": null,
      "metadata": {},
      "outputs": [],
      "source": [
        "# ----- RNN Training -----\n",
        "\n",
        "# Initialize the model\n",
        "rnn_model = SleepStageClassifier(model_type=\"rnn\", hidden_size=128, O=O)\n",
        "\n",
        "# Run the training\n",
        "rnn_train_losses, rnn_valid_accuracies = train(rnn_model, weighting_strategy=\"none\", epochs=30)\n",
        "\n",
        "# Plot training results\n",
        "plot(rnn_train_losses, rnn_valid_accuracies)"
      ]
    },
    {
      "cell_type": "code",
      "execution_count": null,
      "metadata": {},
      "outputs": [],
      "source": [
        "# ----- LSTM Training -----\n",
        "\n",
        "# Initialize the model\n",
        "lstm_model = SleepStageClassifier(model_type=\"lstm\", hidden_size=128, O=O)\n",
        "\n",
        "# Run the training\n",
        "lstm_train_losses, lstm_valid_accuracies = train(lstm_model, weighting_strategy=\"none\", epochs=30)\n",
        "\n",
        "# Plot training results\n",
        "plot(lstm_train_losses, lstm_valid_accuracies)"
      ]
    },
    {
      "cell_type": "code",
      "execution_count": null,
      "metadata": {},
      "outputs": [],
      "source": [
        "# ----- Attention Training -----\n",
        "\n",
        "# Initialize the model\n",
        "attn_model = SleepStageClassifier(model_type=\"attn\", hidden_size=128, O=O)\n",
        "\n",
        "# Run the training\n",
        "attn_train_losses, attn_valid_accuracies = train(attn_model, weighting_strategy=\"none\", epochs=30)\n",
        "\n",
        "# Plot training results\n",
        "plot(attn_train_losses, attn_valid_accuracies)"
      ]
    },
    {
      "cell_type": "markdown",
      "metadata": {},
      "source": [
        "### Evaluation and Bias Mitigation\n",
        "\n",
        "In this section, you will evaluate the performance of all four trained model variants on the test set using three key metrics:\n",
        "\n",
        "* **Accuracy**: the proportion of correctly predicted samples across the entire test set.\n",
        "\n",
        "* **Balanced Accuracy**: the average of recall scores across all classes, helping to account for class imbalance.\n",
        "\n",
        "* **Per-Class Accuracy**: individual accuracy for each sleep stage, providing insights into which stages are predicted well and which are not.\n",
        "\n",
        "Based on these metrics, you will select the best-performing model — the one that achieves the most reliable results.\n",
        "\n",
        "Once the best model is identified, you will retrain it using two different strategies to mitigate the class imbalance issue:\n",
        "\n",
        "1. **Class-Weighted Cross Entropy**\n",
        "\n",
        "    Incorporates static global class weights into the loss function based on training set distribution.\n",
        "\n",
        "2. **DynaMit**\n",
        "\n",
        "    Applies dynamic per-batch class weights during training, adapting to local imbalances.\n",
        "\n",
        "This comparison allows you to assess the effectiveness of bias mitigation strategies in improving fairness and performance, especially on underrepresented sleep stages."
      ]
    },
    {
      "cell_type": "markdown",
      "metadata": {},
      "source": [
        "#### Task 2.11: Evaluation Function\n",
        "\n",
        "In this task, you will write a function to evaluate a **trained model** on the **test set**.\n",
        "\n",
        "The goal is to assess the model's performance using the following metrics: **Overall Accuracy**, **Balanced Accuracy**  and **Per-Class Accuracy**.\n",
        "\n",
        "\n",
        "**Per-Class Accuracy**  \n",
        "\n",
        "   $$\\forall \\tau\\in\\{1,\\ldots,O\\}: \\text{Per-Class Accuracy}_\\tau = \\frac{TP_\\tau}{N_\\tau}$$\n",
        "\n",
        "**Balanced Accuracy**:\n",
        "\n",
        "   $$\\text{Balanced Accuracy} = \\frac{1}{O} \\sum_{\\tau=1}^{O} \\text{Per-Class Accuracy}_\\tau$$\n",
        "\n",
        "Your evaluation function should:\n",
        "\n",
        "- Run the test loop\n",
        "\n",
        "- Use `sklearn.metrics` to compute:\n",
        "\n",
        "  - `accuracy_score` (for overall accuracy)\n",
        "  - `balanced_accuracy_score` (for balanced accuracy)\n",
        "  - compute the diagonal of the normalized `confusion_matrix` (for per-class accuracy); this is a vector with $O$ elements\n",
        "\n",
        "- Return all metrics "
      ]
    },
    {
      "cell_type": "code",
      "execution_count": null,
      "metadata": {},
      "outputs": [],
      "source": [
        "from sklearn.metrics import accuracy_score, balanced_accuracy_score, confusion_matrix\n",
        "\n",
        "\n",
        "def evaluate(model, test_dataloader, device, num_classes=5):\n",
        "    from sklearn.metrics import (\n",
        "        accuracy_score,\n",
        "        balanced_accuracy_score,\n",
        "        confusion_matrix,\n",
        "    )\n",
        "\n",
        "    all_preds, all_targets = [], []\n",
        "\n",
        "    for x, t in test_dataloader:\n",
        "        x = x.to(device)\n",
        "        t = t.to(device)\n",
        "        with torch.no_grad():\n",
        "            y = model(x)\n",
        "        _, predicted = torch.max(y, 1)\n",
        "        all_preds.append(predicted.cpu())\n",
        "        all_targets.append(t.cpu())\n",
        "\n",
        "    y_true = torch.cat(all_targets).numpy()\n",
        "    y_pred = torch.cat(all_preds).numpy()\n",
        "\n",
        "    overall_acc = accuracy_score(y_true, y_pred)\n",
        "    balanced_acc = balanced_accuracy_score(y_true, y_pred)\n",
        "\n",
        "    cm = confusion_matrix(y_true, y_pred, labels=range(num_classes))\n",
        "    # Per-class accuracy: diagonal divided by row sum\n",
        "    with numpy.errstate(divide=\"ignore\", invalid=\"ignore\"):\n",
        "        per_class_acc = numpy.diag(cm) / cm.sum(axis=1)\n",
        "        per_class_acc = numpy.nan_to_num(per_class_acc)  # replace nan with 0\n",
        "\n",
        "    return overall_acc, balanced_acc, per_class_acc"
      ]
    },
    {
      "cell_type": "markdown",
      "metadata": {},
      "source": [
        "#### Task 2.12: Define a Plot Function for Evaluation\n",
        "\n",
        "In this task, you will define a function that visualizes the evaluation results of all four model variants to better compare their performance."
      ]
    },
    {
      "cell_type": "code",
      "execution_count": null,
      "metadata": {},
      "outputs": [],
      "source": [
        "def plot_evaluation(all_model_results):\n",
        "\n",
        "    num_models = len(all_model_results)\n",
        "    rows = (num_models + 1) // 2\n",
        "    fig, axs = pyplot.subplots(rows, 2, figsize=(14, 5 * rows))\n",
        "    axs = axs.flatten()\n",
        "\n",
        "    for i, (model_name, (overall_acc, balanced_acc, per_class_acc)) in enumerate(all_model_results.items()):\n",
        "        ax = axs[i]\n",
        "\n",
        "        # Plot each per-class accuracy with bar plot\n",
        "        bars = ax.bar(stage_names.values(), per_class_acc, color=[stage_colors[i] for i in range(5)])\n",
        "\n",
        "        # Annotate the value of per-class-acc to the top of the bars\n",
        "        for bar, acc in zip(bars, per_class_acc):\n",
        "            ax.text(bar.get_x() + bar.get_width()/2, bar.get_height() + 0.02, f\"{acc:.2f}\", ha='center', fontsize=10)\n",
        "\n",
        "        ax.set_ylim(0, 1.05)\n",
        "        ax.set_ylabel(\"Accuracy\")\n",
        "        ax.set_title(model_name, fontsize=12, pad=30)\n",
        "        ax.grid(axis='y', linestyle='--', alpha=0.5)\n",
        "\n",
        "        # Accuracy box just below title\n",
        "        acc_text = f\"Overall Acc: {overall_acc * 100:.2f}%   Balanced Acc: {balanced_acc * 100:.2f}%\"\n",
        "        ax.text(\n",
        "            0.5, 1.07, acc_text, transform=ax.transAxes,\n",
        "            ha=\"center\", va=\"top\",\n",
        "            bbox=dict(facecolor='lightgreen', edgecolor='gray', boxstyle='round,pad=0.3'),\n",
        "            fontsize=10\n",
        "        )\n",
        "\n",
        "    # Remove any unused subplots\n",
        "    for j in range(i + 1, len(axs)):\n",
        "        fig.delaxes(axs[j])\n",
        "\n",
        "    pyplot.tight_layout()\n",
        "    pyplot.show()"
      ]
    },
    {
      "cell_type": "markdown",
      "metadata": {},
      "source": [
        "#### Task 2.13: Plot All Evaluation Metrics for All Models\n",
        "\n",
        "In this task, you will run the evaluation on test set for each model and visualize the evaluation results of all four model variants to better compare their performance.\n",
        "\n",
        "These plots will help you compare the strengths and weaknesses of each architecture and identify which model performs best across both highly and sparsely represented sleep stages."
      ]
    },
    {
      "cell_type": "code",
      "execution_count": null,
      "metadata": {},
      "outputs": [],
      "source": [
        "# run evaluation for all models\n",
        "all_model_results = {    \n",
        "    \"Pool\": evaluate(pooled_model, test_dataloader, device),\n",
        "    \"RNN\": evaluate(rnn_model, test_dataloader, device),\n",
        "    \"LSTM\": evaluate(lstm_model, test_dataloader, device),\n",
        "    \"Attention\": evaluate(attn_model, test_dataloader, device)\n",
        "}\n",
        "\n",
        "# Compare results\n",
        "plot_evaluation(all_model_results)"
      ]
    },
    {
      "cell_type": "markdown",
      "metadata": {},
      "source": [
        "#### Task 2.14: Bias Mitigation\n",
        "\n",
        "In this task, you will address the issue of **class imbalance** by retraining the best-performing model as determined in the previous task using two different bias mitigation strategies.\n",
        "\n",
        "**Class imbalance** is a common challenge in sleep stage classification, where some stages (like Light Sleep) may be underrepresented. \n",
        "This task focuses on evaluating whether loss function modifications can improve fairness and accuracy across all classes.\n",
        "\n",
        "Steps to Follow:\n",
        "\n",
        "* Select the best model variant based on highest balanced accuracy\n",
        "\n",
        "* Initialize the same model architecture twice\n",
        "\n",
        "* Train each one of these models using:\n",
        "\n",
        "    1. **global** weighting strategy\n",
        "\n",
        "    2. batch-local **DynaMit** sampling\n",
        "    \n",
        "* Evaluate the retrained models on the test set\n",
        "\n",
        "* Plot and compare the metrics from all three runs (Standard Cross Entropy, Weighted CCE, DynaMit) of the same model.\n",
        "\n",
        "Analyze how each mitigation strategy affects performance across different sleep stages."
      ]
    },
    {
      "cell_type": "code",
      "execution_count": null,
      "metadata": {},
      "outputs": [],
      "source": [
        "# ---- Training with Class Weighted CCE ----\n",
        "\n",
        "# Initialize the best model topology\n",
        "best_model_global_weighted = SleepStageClassifier(model_type=\"pool\", hidden_size=128, O=O)\n",
        "\n",
        "# Train the best_model with these fixed global class weights\n",
        "train_losses, valid_accuracies = train(best_model_global_weighted, weighting_strategy=\"global\", epochs=30)\n",
        "\n",
        "# ---- Training with DynaMit ----\n",
        "\n",
        "# Initialize the best model topology again\n",
        "best_model_dynamit = SleepStageClassifier(model_type=\"pool\", hidden_size=128, O=O)\n",
        "\n",
        "# Train the best_model with dynamic weights\n",
        "train_losses, valid_accuracies = train(best_model_dynamit, weighting_strategy=\"dynamit\", epochs=30)\n",
        "\n",
        "\n",
        "# run evaluation for all three models\n",
        "best_model_results = {\n",
        "    \"Best Model Topology with Standard CCE\": evaluate(pooled_model, test_dataloader, device),\n",
        "    \"Best Model Topology with Gloabl Weighting\": evaluate(best_model_global_weighted, test_dataloader, device),\n",
        "    \"Best Model with Dynamit\": evaluate(best_model_dynamit, test_dataloader, device)\n",
        "}\n",
        "\n",
        "# Compare results\n",
        "plot_evaluation(best_model_results)"
      ]
    }
  ],
  "metadata": {
    "colab": {
      "collapsed_sections": [
        "dKg8Xm0Y8_OI"
      ],
      "provenance": []
    },
    "kernelspec": {
      "display_name": "venv",
      "language": "python",
      "name": "python3"
    },
    "language_info": {
      "codemirror_mode": {
        "name": "ipython",
        "version": 3
      },
      "file_extension": ".py",
      "mimetype": "text/x-python",
      "name": "python",
      "nbconvert_exporter": "python",
      "pygments_lexer": "ipython3",
      "version": "3.13.2"
    }
  },
  "nbformat": 4,
  "nbformat_minor": 0
}
