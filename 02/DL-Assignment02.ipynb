{
 "cells": [
  {
   "attachments": {},
   "cell_type": "markdown",
   "metadata": {
    "id": "9jiIATcpFsPc"
   },
   "source": [
    "### Group Members:\n",
    "\n",
    "\n",
    "- Tim Lui, 24-755-092\n",
    "- Boris Trifonov, 24-750-077"
   ]
  },
  {
   "attachments": {},
   "cell_type": "markdown",
   "metadata": {
    "id": "FcStVd7x1zL3"
   },
   "source": [
    "# Assignment 2: Binary and Categorical Classification\n",
    "\n",
    "For this assignment, we will use a similar two-layer network as Assignment 1 to implement binary and categorical classification using only `NumPy` package, without relying on `PyTorch` or any deep learning libraries.\n",
    "\n",
    "We will implement Binary Cross Entropy Loss and Categorical Cross Entropy Loss and their gradient manually with efficient matrix computation, and evaluate accuracy for two classification tasks.  \n"
   ]
  },
  {
   "attachments": {},
   "cell_type": "markdown",
   "metadata": {
    "id": "sIA1V8sU2W2W"
   },
   "source": [
    "## Theoretical Questions\n",
    "\n",
    "We will build and train a two-layer network similar to Assignment 1.\n",
    "Besides, we will apply **Logistic Function** ($\\sigma$) on the logits for binary classification and **Stable Softmax Function** ($\\tilde{\\mathcal S}$) on the logits for categorical classification.\n",
    "\n",
    "Questions in this section concern:\n",
    "\n",
    "1. Comparison between normal softmax $\\mathcal S$ and stable softmax $\\tilde{\\mathcal S}$\n",
    "2. Compute derivative of $\\tilde{\\mathcal S}$ that should be applied in the coding section\n",
    "3. Weight/Parameter Initialization\n",
    "4. Discussion on Evaluation Metrics of classification tasks"
   ]
  },
  {
   "attachments": {},
   "cell_type": "markdown",
   "metadata": {
    "id": "DmECZG_U39zs"
   },
   "source": [
    "### Task 1.1 Proof of Stable Softmax\n",
    "\n",
    "The softmax function is defined as:\n",
    "\n",
    "$$\n",
    "\\mathcal S(z_o) = \\frac{e^{z_o}}{\\sum\\limits_{o'} e^{z_{o'}}}\n",
    "$$\n",
    "\n",
    "However, when $ z_o $ has large values, the exponential $ e^{z_o} $ may grow too large, leading to numerical instability (e.g., overflow issues).\n",
    "To improve stability, we introduce the **stable softmax**:\n",
    "\n",
    "$$\n",
    "\\tilde{\\mathcal S}(z_o) = \\frac{e^{z_o - z_{\\max}}}{\\sum\\limits_{o'} e^{z_{o'} - z_{\\max}}}\n",
    "$$\n",
    "\n",
    "where $z_{\\max} = \\max\\limits_o z_o$.\n",
    "\n",
    "Prove that stable softmax is mathematically equivalent to the original softmax function.\n",
    "\n",
    "Discuss how stable softmax improves numerical stability, for instance, what will happen when $z_o$ is too large, or too small?"
   ]
  },
  {
   "attachments": {},
   "cell_type": "markdown",
   "metadata": {
    "id": "gElE0oDt4nTW"
   },
   "source": [
    "Proof:\n",
    "$\\tilde{\\mathcal S}(z_o) = \\frac{e^{z_o - z_{\\max}}}{\\sum\\limits_{o'} e^{z_{o'} - z_{\\max}}}$\n",
    "\n",
    "$\\tilde{\\mathcal S}(z_o) = \\frac{\\frac{e^{z_o}}{e^{z_{max}}}}{\\sum\\limits_{o'} \\frac{e^{z_o'}}{e^{z_{max}}}}$\n",
    "\n",
    "$\\tilde{\\mathcal S}(z_o) = \\frac{\\frac{e^{z_o}}{e^{z_{max}}}}{\\frac{1}{e^{z_{max}}} \\sum\\limits_{o'} e^{z_{o'}}}$\n",
    "\n",
    "$\\tilde{\\mathcal S}(z_o) = \\frac{e^{z_o}}{\\sum\\limits_{o'} e^{z_{o'}}} = \\mathcal S(z_o)$\n",
    "\n",
    "Discussion:\n",
    "   Large values of $z_o$: TODO\n",
    "   Small values of $z_o$: TODO\n"
   ]
  },
  {
   "attachments": {},
   "cell_type": "markdown",
   "metadata": {
    "id": "dF71qySq1qhn"
   },
   "source": [
    "### Task 1.2 Derivative of Stable Softmax\n",
    "\n",
    "\n",
    "Recall that in the lecture slides, when we compute gradient with respect to $w^{(1)}$ and $w^{(2)}$, as part of the chain rule, we replace $\\frac{\\partial\\mathcal J^{[n]}}{\\partial\\mathcal y_o^{[n]}}\\frac{\\partial\\mathcal y_o^{[n]}}{\\partial\\mathcal z_o^{[n]}}$ by $\\frac{\\partial\\mathcal J^{[n]}}{\\partial\\mathcal z_o^{[n]}}$ when we choose a good activation function.\n",
    "\n",
    "When normal softmax is applied, we have $\\frac{\\partial\\mathcal J^{[n]}}{\\partial\\mathcal z_o^{[n]}} = y_o^{[n]} - t_o^{[n]}$. Prove that $\\frac{\\partial\\mathcal J^{[n]}}{\\partial\\mathcal z_o^{[n]}}$ will return the same format when the activation function is stable softmax.\n",
    "\n"
   ]
  },
  {
   "attachments": {},
   "cell_type": "markdown",
   "metadata": {
    "id": "bUlc_2ta5bF1"
   },
   "source": [
    "Answer: ..."
   ]
  },
  {
   "attachments": {},
   "cell_type": "markdown",
   "metadata": {
    "id": "O-QbnR__zCJB"
   },
   "source": [
    "### Task 1.3 Weight Initialization\n",
    "\n",
    "Why do we need to randomly initialize the weights before training starts?\n",
    "\n",
    "1. Proof that a network with constantly initialized weights perform like a network with one hidden unit.\n",
    "2. Show that gradient decent is not able to change this behavior and will keep all neurons in the hidden layer identical throughout training."
   ]
  },
  {
   "attachments": {},
   "cell_type": "markdown",
   "metadata": {
    "id": "2cD9ZVUoznUE"
   },
   "source": [
    "Answer: ..."
   ]
  },
  {
   "attachments": {},
   "cell_type": "markdown",
   "metadata": {
    "id": "uBmFHEbvNoT7"
   },
   "source": [
    "### Task 1.4 Evaluation Metrics\n",
    "\n",
    "If a binary classifier achieves an accuracy greater than 90%, see example plot in the OLAT, does this always indicate good performance? Might high accuracy in this binary classification be misleading? \n",
    "\n",
    "What alternative evaluation approaches could better capture model performance in such scenarios?\n",
    "\n"
   ]
  },
  {
   "attachments": {},
   "cell_type": "markdown",
   "metadata": {
    "id": "DRDxQW4xy2E3"
   },
   "source": [
    "Answer: ..."
   ]
  },
  {
   "attachments": {},
   "cell_type": "markdown",
   "metadata": {
    "id": "hi5N_hI79qkF"
   },
   "source": [
    "## Coding\n",
    "\n",
    "**<font color='red' size='5'>This section has to be submitted by 11:59 p.m. on Wednesday, March 26, to be graded.</font>**"
   ]
  },
  {
   "attachments": {},
   "cell_type": "markdown",
   "metadata": {
    "id": "E-n2m59B4iP8"
   },
   "source": [
    "### Dataset\n",
    "\n",
    "We will use two different datasets, the *churn* dataset https://archive.ics.uci.edu/dataset/563/iranian+churn+dataset for a binary classification and the *winequality-red* dataset https://archive.ics.uci.edu/dataset/186/wine+quality for a categorical classification. Both datasets are available on the UCI Machine Learning repository.\n",
    "\n",
    "The binary classification dataset contains features extracted from customers of a telecommunication company, which are classified as either churn or not.\n",
    "The categorical classification dataset contains chemical measurements for seven distinct qualities of a Portuguese white wine.\n",
    "In the former dataset, the class is indicated in the final column named \"Churn\", whereas for the latter, target information is provided in the last column named \"quality.\"\n",
    "\n",
    "Please run the code block below to download the data files."
   ]
  },
  {
   "cell_type": "code",
   "execution_count": 192,
   "metadata": {
    "ExecuteTime": {
     "end_time": "2025-03-18T16:43:54.514925Z",
     "start_time": "2025-03-18T16:43:54.503146Z"
    },
    "id": "5Shd71QB4iP_"
   },
   "outputs": [
    {
     "name": "stdout",
     "output_type": "stream",
     "text": [
      "File 'churn_data.zip' already exists. Skipping download.\n",
      "File 'churn_data.csv' already extracted. Skipping extraction.\n",
      "File 'winequality-red.csv' already exists. Skipping download.\n"
     ]
    }
   ],
   "source": [
    "import os\n",
    "import zipfile\n",
    "import urllib.request\n",
    "\n",
    "import numpy as np\n",
    "\n",
    "# Download the two dataset files\n",
    "dataset_files = {\n",
    "    \"churn_data.zip\": \"https://archive.ics.uci.edu/static/public/563/iranian+churn+dataset.zip\",\n",
    "    \"winequality-red.csv\": \"https://archive.ics.uci.edu/ml/machine-learning-databases/wine-quality/winequality-red.csv\"\n",
    "}\n",
    "\n",
    "for name, url in dataset_files.items():\n",
    "    base, extension = os.path.splitext(name)  # Get file name without extension\n",
    "\n",
    "    if os.path.exists(name):\n",
    "        print(f\"File '{name}' already exists. Skipping download.\")\n",
    "    else:\n",
    "        # Download the file\n",
    "        urllib.request.urlretrieve(url, name)\n",
    "        print(f\"Downloaded {name} successfully.\")\n",
    "\n",
    "    # Check if it's a zip file and if it has been extracted\n",
    "    if extension == \".zip\":\n",
    "        extracted_file = os.path.join(base + \".csv\")  # Expected extracted file name\n",
    "\n",
    "        if not os.path.exists(extracted_file):\n",
    "            with zipfile.ZipFile(name, 'r') as zip_ref:\n",
    "                zip_ref.extractall()\n",
    "            print(f\"Extracted {name} successfully.\")\n",
    "\n",
    "            # Rename the extracted file\n",
    "            os.rename(\"Customer Churn.csv\", extracted_file)\n",
    "        else:\n",
    "            print(f\"File '{extracted_file}' already extracted. Skipping extraction.\")\n"
   ]
  },
  {
   "attachments": {},
   "cell_type": "markdown",
   "metadata": {
    "id": "ySwkAKSM4iQA"
   },
   "source": [
    "#### Task 2.1: Dataset Loading\n",
    "\n",
    "The first task deals with the loading of the datasets.\n",
    "When training networks in `NumPy`, all data needs to be stored as NumPy arrays.\n",
    "The data should be split between input matrix $\\mathbf X \\in \\mathbb R^{D\\times N}$ and target matrix $\\mathbf T \\in \\mathbb R^{O\\times N}$.\n",
    "We need to **add a bias neuron to the input** so that we have $\\mathbf X \\in \\mathbb R^{(D+1)\\times N}$\n",
    "\n",
    "\n",
    "<!-- For the targets, we have to be more careful as there are differences w.r.t. the applied loss function.\n",
    "\n",
    "*   For binary classification, we need $\\mathbf T \\in \\mathbb R^{1\\times N}$.\n",
    "*   For categorical classification, we only need the class indexes $\\vec t = [t^{[1]}, \\ldots, t^{[N]}]$ to be in dimension $\\mathbb N^N$. -->\n",
    "\n",
    "\n",
    "Implement a function that returns both the input and the target data for a given dataset.\n",
    "\n",
    "Note:\n",
    "\n",
    "1. You can use `csv.reader()` to read the dataset, or rely on other methods such as `pandas`\n",
    "2. Please note that in the wine dataset CSV file, all values are separated by `;`, whereas in the churn dataset, they are separated by `,`\n",
    "3. For the wine dataset, convert 6 target values into a one-hot matrix so that the dimension is $\\mathbb R^{6\\times N}$. **Be aware that the target values in the wine dataset do not start at index 0.**"
   ]
  },
  {
   "cell_type": "code",
   "execution_count": 193,
   "metadata": {
    "ExecuteTime": {
     "end_time": "2025-03-18T16:43:54.598586Z",
     "start_time": "2025-03-18T16:43:54.530154Z"
    },
    "id": "mnlXaDVVDMd2"
   },
   "outputs": [
    {
     "name": "stdout",
     "output_type": "stream",
     "text": [
      "Loaded dataset with 3150 samples\n",
      "Loaded dataset with 1599 samples\n",
      "Proportion of 0 as target class in T_churn: 0.8428571428571429\n",
      "Proportion of 1 as target class in T_churn: 0.15714285714285714\n",
      "Proportion of each target class in T_wine: [[0.00625391]\n",
      " [0.03314572]\n",
      " [0.42589118]\n",
      " [0.39899937]\n",
      " [0.12445278]\n",
      " [0.01125704]]\n"
     ]
    }
   ],
   "source": [
    "import numpy\n",
    "import pandas as pd\n",
    "\n",
    "def dataset(dataset_file, delimiter):\n",
    "    # read dataset\n",
    "    data = pd.read_csv(dataset_file, delimiter=delimiter)\n",
    "\n",
    "    print (f\"Loaded dataset with {len(data)} samples\")\n",
    "\n",
    "    # Convert to NumPy array\n",
    "    data = numpy.array(data)\n",
    "\n",
    "    # Get the input (data samples)\n",
    "    X = data[:, :-1].astype(float)\n",
    "    # Insert bias neuron (add a column of ones) to the input\n",
    "    X = numpy.insert(X, 0, 1, axis=1)\n",
    "\n",
    "    if dataset_file == \"winequality-red.csv\":\n",
    "        # target is in the last column and needs to be converted into one-hot format [0, 1]\n",
    "        # Creates [N, 6] matrix, which we transpose at the end\n",
    "        T = pd.get_dummies(data[:, -1], dtype=float)\n",
    "\n",
    "        # Converts back to numpy array\n",
    "        T = numpy.array(T)\n",
    "    else:\n",
    "        # target is in the last column and needs to be of type float\n",
    "        T = data[:, -1].astype(float)\n",
    "\n",
    "        # Ensures shape is [N, 1] instead of [N, ]\n",
    "        T = T.reshape(T.shape[0], 1)\n",
    "\n",
    "    # IMPORTANT: After transposing first row in X is bias neuron!\n",
    "    return numpy.transpose(X), numpy.transpose(T)\n",
    "\n",
    "#TODO: Check target class distribution of both datasets\n",
    "X_churn, T_churn = dataset(\"churn_data.csv\", \",\")\n",
    "X_wine, T_wine = dataset(\"winequality-red.csv\", \";\")\n",
    "\n",
    "# TODO: Check proportion of 0 and 1 as target classes in churn dataset\n",
    "print(f\"Proportion of 0 as target class in T_churn: {T_churn[T_churn == 0.0].shape[0]/T_churn.shape[1]}\")\n",
    "print(f\"Proportion of 1 as target class in T_churn: {T_churn[T_churn == 1.0].shape[0]/T_churn.shape[1]}\")\n",
    "\n",
    "# TODO: Check proportion of each target class w.r.t to all observations in wine dataset\n",
    "sum_wine_target_class = numpy.sum(T_wine, axis=1, keepdims=True)\n",
    "proportion_wine_target_class = sum_wine_target_class / T_wine.shape[1]\n",
    "print(f\"Proportion of each target class in T_wine: {proportion_wine_target_class}\")"
   ]
  },
  {
   "attachments": {},
   "cell_type": "markdown",
   "metadata": {
    "id": "15Su4txz4iQB"
   },
   "source": [
    "#### Test 1: Assert Valid Outputs\n",
    "\n",
    "\n",
    "1. For the churn data, we assure that all dimensions are correct and that class labels are in $\\{0, 1\\}$.\n",
    "\n",
    "2. For the wine dataset, we make sure that the dataset is in the correct dimensions, i.e., $\\mathbf X\\in \\mathbb R^{(D+1)\\times N}$ and $\\mathbf T \\in \\mathbb N^{O\\times N}$. We verify that each sample in $\\mathbf T$ has exactly one active class (one-hot encoding)."
   ]
  },
  {
   "cell_type": "code",
   "execution_count": 194,
   "metadata": {
    "ExecuteTime": {
     "end_time": "2025-03-18T16:43:54.655664Z",
     "start_time": "2025-03-18T16:43:54.632271Z"
    },
    "colab": {
     "base_uri": "https://localhost:8080/"
    },
    "id": "5JsZT_cmTgBA",
    "outputId": "608efddd-199f-4988-e685-5f3796c6eee4"
   },
   "outputs": [
    {
     "name": "stdout",
     "output_type": "stream",
     "text": [
      "Loaded dataset with 3150 samples\n",
      "Churn shape X: (14, 3150), T shape: (1, 3150)\n",
      "Loaded dataset with 1599 samples\n",
      "Wine shape X: (12, 1599), T shape: (6, 1599)\n"
     ]
    }
   ],
   "source": [
    "# Load datasets using the dataset function\n",
    "X, T = dataset(\"churn_data.csv\", \",\")\n",
    "\n",
    "print(f\"Churn shape X: {X.shape}, T shape: {T.shape}\")\n",
    "\n",
    "\n",
    "# Assert checks for the churn dataset\n",
    "assert X.shape[0] == 14, X.shape[0]\n",
    "assert T.shape[0] == 1, T.shape[0]\n",
    "assert numpy.all(T >= 0) and numpy.all(T <= 1)\n",
    "assert T.dtype == numpy.float64\n",
    "\n",
    "# Load wine dataset\n",
    "X, T = dataset(\"winequality-red.csv\", \";\")\n",
    "\n",
    "print(f\"Wine shape X: {X.shape}, T shape: {T.shape}\")\n",
    "\n",
    "# Assert checks for the winequality-red dataset\n",
    "assert X.shape[0] == 12, X.shape[0]\n",
    "assert T.shape[0] == 6, T.shape[0]\n",
    "# assert numpy.all(T >= 0) and numpy.all(T <= 1)\n",
    "assert numpy.all(numpy.sum(T, axis=0) == 1), \"Error: Some samples are not correctly one-hot encoded!\" # ensures that each column sums to exactly 1\n",
    "assert T.dtype == numpy.float64"
   ]
  },
  {
   "attachments": {},
   "cell_type": "markdown",
   "metadata": {
    "id": "bSHMBMNN4iQB"
   },
   "source": [
    "#### Task 2.2: Split Training and Validation Data\n",
    "\n",
    "\n",
    "The data should be split into 80% for training and 20% for validation. Implement a function that takes the full dataset $(X,T)$ and returns $(X_t, T_t, X_v, T_v)$ accordingly.\n",
    "\n",
    "Write a function that splits off training and validation samples from a given dataset. **What do we need to assure before splitting?**\n"
   ]
  },
  {
   "cell_type": "code",
   "execution_count": 195,
   "metadata": {
    "ExecuteTime": {
     "end_time": "2025-03-18T16:43:54.686297Z",
     "start_time": "2025-03-18T16:43:54.677022Z"
    },
    "id": "9bhG1l6CD4gm"
   },
   "outputs": [],
   "source": [
    "def split_training_data(X,T,train_percentage=0.8):\n",
    "  # TODO: We need to assure smth, e.g. shuffle dataset to minimize bias?\n",
    "  seed = 27\n",
    "  rng = numpy.random.default_rng(seed)\n",
    "\n",
    "  # Assuming X.shape[1] = T.shape[1]\n",
    "  shuffled_indices = rng.permutation(X.shape[1])\n",
    "\n",
    "  # Shuffle both X and T in consistent manner\n",
    "  X_shuffled = X[:, shuffled_indices]\n",
    "  T_shuffled = T[:, shuffled_indices]\n",
    "\n",
    "  # split into 80/20 training/validation\n",
    "  X_train = X_shuffled[:, :int(X.shape[1] * train_percentage)]\n",
    "  T_train = T_shuffled[:, :int(T.shape[1] * train_percentage)]\n",
    "  X_val = X_shuffled[:, int(X.shape[1] * train_percentage):]\n",
    "  T_val = T_shuffled[:, int(T.shape[1] * train_percentage):]\n",
    "\n",
    "  return X_train, T_train, X_val, T_val"
   ]
  },
  {
   "attachments": {},
   "cell_type": "markdown",
   "metadata": {
    "id": "Sk6_LL4X4iQC"
   },
   "source": [
    "#### Task 2.3: Input Data Normalization\n",
    "\n",
    "\n",
    "Since the data is in different input regimes, we want to normalize the data.\n",
    "\n",
    "Implement a function that normalizes all input data using the whitening method with given mean and standard deviation.\n",
    "$$X_{norm} = \\frac{X-\\mu}{\\sigma}$$\n",
    "Compute the mean ($\\mu$) and the standard deviation ($\\sigma$) for your dataset.\n",
    "Make sure that you handle the bias neuron $x_0$ correctly.\n",
    "Finally, normalize your input data using the implemented function.\n",
    "\n",
    "Note: Use `numpy.mean()` and `numpy.std()` with the correct dimensions."
   ]
  },
  {
   "cell_type": "code",
   "execution_count": 196,
   "metadata": {
    "ExecuteTime": {
     "end_time": "2025-03-18T16:43:54.715269Z",
     "start_time": "2025-03-18T16:43:54.705770Z"
    },
    "id": "Eizcv6sqjpP0"
   },
   "outputs": [],
   "source": [
    "def normalize(X_train, X_val):\n",
    " # Compute mean and standard deviation for each feature (row)\n",
    "  # Keep shape with the keepdims parameter\n",
    "  mean = lambda x: numpy.mean(x, axis=1, keepdims=True)\n",
    "  std = lambda x: numpy.std(x, axis=1, keepdims=True)\n",
    "\n",
    "  # Separate the bias, first row of train and validate datasets\n",
    "  X_train_bias = X_train[0, :]\n",
    "  X_val_bias = X_val[0, :]\n",
    "\n",
    "  # All other rows of train and validate datasets\n",
    "  X_train_without_bias= X_train[1:, :]\n",
    "  X_val_without_bias = X_val[1:, :]\n",
    "\n",
    "  # Standardize both X_train and X_val\n",
    "  X_train_normalize_without_bias = ((X_train_without_bias - mean(X_train_without_bias)) / std(X_train_without_bias))\n",
    "  X_val_normalize_without_bias = ((X_val_without_bias - mean(X_val_without_bias)) / std(X_val_without_bias))\n",
    "\n",
    "  # Add the bias row back\n",
    "  X_train_normalize = numpy.vstack((X_train_bias, X_train_normalize_without_bias))\n",
    "  X_val_normalize = numpy.vstack((X_val_bias, X_val_normalize_without_bias))\n",
    "\n",
    "  return X_train_normalize, X_val_normalize\n",
    "\n",
    "# TODO: For testing purposes only\n",
    "# X, T = dataset(\"churn_data.csv\", \",\")\n",
    "# X_train, T_train, X_val, T_val = split_training_data(X, T)\n",
    "#\n",
    "# X_train_df = pd.DataFrame(X_train)\n",
    "# X_val_df = pd.DataFrame(X_val)\n",
    "# print(f\"X Train Dataset: {X_train_df.head()}\")\n",
    "# print(f\"X Val Dataset: {X_val_df.head()}\")\n",
    "#\n",
    "# X_train_normalize, X_val_normalize = normalize(X_train, X_val)\n",
    "# print(f\"X Train Normalize Dataset: {pd.DataFrame(X_train_normalize).head()}\")\n",
    "# print(f\"X Val Normalize Dataset: {pd.DataFrame(X_val_normalize).head()}\")\n",
    "\n"
   ]
  },
  {
   "attachments": {},
   "cell_type": "markdown",
   "metadata": {
    "id": "9cTqq3UnknyP"
   },
   "source": [
    "### Gradient Descent\n",
    "\n",
    "To train a two-layer multi-output regression network, we need to implement some functions.\n",
    "The network output is computed in three steps:\n",
    "\n",
    "  * Compute network activation for a batch of inputs $\\mathbf X$: $\\mathbf A = \\mathbf W^{(1)}\\mathbf X$\n",
    "  * Call the activation function element-wise: $\\mathbf H = g(\\mathbf A)$. Here, we rely on the $\\tanh$ function. Assure that the hidden neuron bias $\\mathbf H_{0,:}$ is set appropriately.\n",
    "  * Compute the logits $\\mathbf Z$ of the batch: $\\mathbf Z = \\mathbf W^{(2)}\\mathbf H$."
   ]
  },
  {
   "attachments": {},
   "cell_type": "markdown",
   "metadata": {
    "id": "Sl3UYyPmXy_2"
   },
   "source": [
    "1#### Task 2.4: Activation of Output\n",
    "\n",
    "In this task, we will implement the activation functions used in binary and categorical classification:  \n",
    "\n",
    "1. Logistic Function (for Binary Classification)  \n",
    "   $$\n",
    "   \\sigma(z) = \\frac{1}{1 + e^{-z}}\n",
    "   $$\n",
    "\n",
    "2. Stable Softmax Function (for Categorical Classification)\n",
    "  $$\n",
    "   \\tilde{\\mathcal S}(z_o) = \\frac{e^{z_o - z_{max}}}{\\sum\\limits_{o'} e^{z_{o'} - z_{max}}}\n",
    "   $$"
   ]
  },
  {
   "cell_type": "code",
   "execution_count": 197,
   "metadata": {
    "ExecuteTime": {
     "end_time": "2025-03-18T16:43:54.747288Z",
     "start_time": "2025-03-18T16:43:54.741064Z"
    },
    "id": "jpcuXTBKg115"
   },
   "outputs": [],
   "source": [
    "def logistic_function(z):\n",
    "    return 1 / (1 + numpy.exp(-z))\n",
    "\n",
    "def stable_softmax(z):\n",
    "    # subtract the maximum for numerical stability\n",
    "    z_max = np.max(z, axis=0, keepdims=True)\n",
    "    exp_values = np.exp(z - z_max)\n",
    "    sum_exp = np.sum(exp_values, axis=0, keepdims=True)\n",
    "    # add a small constant to avoid division by zero\n",
    "    return exp_values / (sum_exp + 1e-8)"
   ]
  },
  {
   "attachments": {},
   "cell_type": "markdown",
   "metadata": {
    "id": "KMz-nSri4iQC"
   },
   "source": [
    "#### Task 2.5: Network Implementation\n",
    "\n",
    "Implement a multi-target network that computes the output matrix $\\mathbf Y$ for a given input dataset $\\mathbf X$ and given parameters $\\Theta=(\\mathbf W^{(1)}, \\mathbf W^{(2)})$ using `numpy` operations. Use $\\tanh$ as activation function between two layers.\n",
    "\n",
    "The function should return both the output $\\mathbf Y$ and the output of the hidden units $\\mathbf H$ since we will need these in gradient descent. \n",
    "When applying binary cross entropy loss, we apply the logistic function $\\sigma$ to the logits $\\mathbf Z$ before returning it.\n",
    "When applying categorical cross entropy loss, we apply stable softmax $\\tilde{\\mathcal S}$ to the logits $\\mathbf Z$ before returning it."
   ]
  },
  {
   "cell_type": "code",
   "execution_count": 198,
   "metadata": {
    "ExecuteTime": {
     "end_time": "2025-03-18T16:43:54.778980Z",
     "start_time": "2025-03-18T16:43:54.771772Z"
    },
    "id": "6H8ZV4Qcly95"
   },
   "outputs": [],
   "source": [
    "def Network(X, Theta, loss_type='bce'):\n",
    "    W1, W2 = Theta\n",
    "\n",
    "    # compute activation, A shape ?\n",
    "    A = numpy.dot(W1, X)\n",
    "\n",
    "    # compute hidden unit output\n",
    "    H = numpy.tanh(A)\n",
    "\n",
    "    # Prepend H0 as 1 to hidden unit output?\n",
    "    H_with_bias = numpy.concatenate((numpy.ones((1, H.shape[1])), H), axis=0)\n",
    "\n",
    "    # Calculate Z\n",
    "    Z = numpy.dot(W2, H_with_bias)\n",
    "\n",
    "    # Print Z, if Z is extremely low, then logistic function would be estimated to 0.0\n",
    "    # print(f'Z array: {Z}')\n",
    "\n",
    "    # compute network output\n",
    "    if loss_type == 'bce':\n",
    "        # Apply logistic function to Z\n",
    "        Y = logistic_function(Z)\n",
    "    else:\n",
    "        # Apply softmax stable function to Z\n",
    "        Y = stable_softmax(Z)\n",
    "\n",
    "    # TODO: What should be the shape of the output, [number_of_observations, 1] / [1, number_of_observations]\n",
    "    return Y, H"
   ]
  },
  {
   "attachments": {},
   "cell_type": "markdown",
   "metadata": {
    "id": "Zt0CMab4_Dr5"
   },
   "source": [
    "#### Task 2.6: Loss Implementation\n",
    "\n",
    "Implement a loss function that returns the Binary Cross-Entropy (BCE) loss for binary classification and the Categorical Cross-Entropy (CCE) loss for categorical classification.\n",
    "Note that for BCE, $O=1$ so that both $\\mathbf Y\\in\\mathbb R^{O\\times N}$ and $\\mathbf T\\in\\mathbb N^{O\\times N}$ are considered as vectors.\n",
    "\n",
    "$$\n",
    "\\mathcal J^{\\mathrm{BCE}} = -\\frac{1}{N} \\left[ \\mathbf T \\log \\mathbf Y + (1 - \\mathbf T) \\log (1 - \\mathbf Y) \\right] \\vec{\\mathbf 1}_N\n",
    "$$\n",
    "\n",
    "$$\n",
    "\\mathcal J^{\\mathrm{CCE}} = -\\frac{1}{N} \\vec{\\mathbf 1}_O^T [\\mathbf T \\log \\mathbf Y] \\vec{\\mathbf 1}_N\n",
    "$$\n",
    "\n",
    "For both losses, the mathematical expressions below can be implemented much easier, by using basic `numpy` or `scipy` functionality."
   ]
  },
  {
   "cell_type": "code",
   "execution_count": 199,
   "metadata": {
    "ExecuteTime": {
     "end_time": "2025-03-18T16:43:54.806433Z",
     "start_time": "2025-03-18T16:43:54.798757Z"
    },
    "id": "MyudNNSLqRgq"
   },
   "outputs": [],
   "source": [
    "def loss(Y, T, loss_type):\n",
    "    if loss_type == \"bce\":\n",
    "        return -numpy.mean(T * numpy.log(Y) + (1 - T) * numpy.log(1 - Y))\n",
    "    if loss_type == \"cce\":\n",
    "        return -np.mean(np.sum(T * np.log(Y + 1e-8), axis=0))"
   ]
  },
  {
   "attachments": {},
   "cell_type": "markdown",
   "metadata": {
    "id": "fD2srCKN_Dr5"
   },
   "source": [
    "#### Task 2.7: Gradient Implementation\n",
    "\n",
    "Implement a function that computes and returns the gradient for a given batch $(\\mathbf X, \\mathbf T)$, the given network outputs $\\mathbf Y$ and $\\mathbf H$ as well as current parameters $\\Theta=(\\mathbf W^{(1)}, \\mathbf W^{(2)})$.\n",
    "Make sure to compute the gradient with respect to both weight matrices. Remember that we have used $\\sigma$ as the activation function.\n",
    "Implement the function using the fast version provided in the lecture and make use of `numpy` operations."
   ]
  },
  {
   "cell_type": "code",
   "execution_count": 200,
   "metadata": {
    "ExecuteTime": {
     "end_time": "2025-03-18T16:43:54.834659Z",
     "start_time": "2025-03-18T16:43:54.826492Z"
    },
    "id": "nNpZRBrUqU5Q"
   },
   "outputs": [],
   "source": [
    "def gradient(X, T, Y, H, Theta):\n",
    "  W1, W2 = Theta\n",
    "\n",
    "  # Correctly prepend the bias term to H\n",
    "  H_with_bias = numpy.concatenate((numpy.ones((1, H.shape[1])), H), axis=0)\n",
    "\n",
    "  g2 = (2*numpy.dot((Y - T), H_with_bias.T))/Y.shape[1]\n",
    "\n",
    "  dH = numpy.dot(W2.T, (Y - T))\n",
    "\n",
    "  # remove derivative for bias unit before computing tanh derivative\n",
    "  # TODO: Why H to the power of 2, here? In lecture slides it is only H\n",
    "  #dA = dH[1:, :] * (1 - H ** 2)\n",
    "  dA = dH[1:, :] * (1 - H)\n",
    "  g1 = (2*numpy.dot(dA, X.T))/Y.shape[1]\n",
    "\n",
    "  return g1, g2"
   ]
  },
  {
   "attachments": {},
   "cell_type": "markdown",
   "metadata": {
    "id": "iQ5re_EW4iQD"
   },
   "source": [
    "#### Task 2.8: Accuracy Computation\n",
    "\n",
    "\n",
    "Implement a function that computes the accuracy of the provided network output and the given target values.\n",
    "Make sure that the implementation supports both binary as well as categorical targets."
   ]
  },
  {
   "cell_type": "code",
   "execution_count": 201,
   "metadata": {
    "ExecuteTime": {
     "end_time": "2025-03-18T16:43:54.862420Z",
     "start_time": "2025-03-18T16:43:54.854771Z"
    },
    "id": "eDOQJPo3FLX4"
   },
   "outputs": [],
   "source": [
    "def accuracy(Y, T):\n",
    "  # check if we have binary or categorical classification\n",
    "  # Calculate accuracy as TP / TP+FP\n",
    "  if T.shape[0] == 1:\n",
    "        # binary classification\n",
    "        return numpy.sum((Y >= 0.5) == T) / T.shape[1]\n",
    "  else:\n",
    "        # categorical classification\n",
    "        return numpy.sum(numpy.argmax(Y, axis=0) == numpy.argmax(T, axis=0)) / T.shape[1]"
   ]
  },
  {
   "attachments": {},
   "cell_type": "markdown",
   "metadata": {
    "id": "qXZnMJ6O4iQD"
   },
   "source": [
    "#### Test 2: Test Accuracy Function\n",
    "\n",
    "\n",
    "Design test data and according logit values with which you can test the correctness of your accuracy function.\n",
    "Make sure that the accuracy will compute the correct values.\n",
    "Test both binary and categorical accuracy."
   ]
  },
  {
   "cell_type": "code",
   "execution_count": 202,
   "metadata": {
    "ExecuteTime": {
     "end_time": "2025-03-18T16:43:54.893453Z",
     "start_time": "2025-03-18T16:43:54.883584Z"
    },
    "id": "T6oj8z3a4iQD"
   },
   "outputs": [],
   "source": [
    "# first, test binary classification\n",
    "YY = numpy.ones((1,20)) * -5.\n",
    "YY[0][15:20] = 5\n",
    "assert(abs(accuracy(YY,numpy.zeros((1,20))) - 0.75) < 1e-8)\n",
    "assert(abs(accuracy(YY,numpy.ones((1,20))) - 0.25) < 1e-8)\n",
    "\n",
    "# now, test categorical classification with 4 classes\n",
    "YY = numpy.ones((4, 20)) * -5  # Shape (C, N) to match function expectations\n",
    "YY[0, 0:1] = 5\n",
    "YY[1, 1:4] = 5\n",
    "YY[2, 4:10] = 5\n",
    "YY[3, 10:20] = 5\n",
    "# Modify YY and T to be one-hot encoded\n",
    "T0 = numpy.eye(4)[numpy.zeros(20, dtype=int)].T\n",
    "T1 = numpy.eye(4)[numpy.ones(20, dtype=int)].T\n",
    "T2 = numpy.eye(4)[numpy.ones(20, dtype=int) * 2].T\n",
    "T3 = numpy.eye(4)[numpy.ones(20, dtype=int) * 3].T\n",
    "T4 = numpy.eye(4)[numpy.array([0, 1, 1, 1, 2, 2, 2, 2, 2, 2, 3, 3, 3, 3, 3, 3, 3, 3, 3, 3])].T\n",
    "\n",
    "# Assertions with modified inputs\n",
    "assert abs(accuracy(YY, T0) - 0.05) < 1e-8\n",
    "assert abs(accuracy(YY, T1) - 0.15) < 1e-8\n",
    "assert abs(accuracy(YY, T2) - 0.3) < 1e-8\n",
    "assert abs(accuracy(YY, T3) - 0.5) < 1e-8\n",
    "assert abs(accuracy(YY, T4) - 1.0) < 1e-8"
   ]
  },
  {
   "attachments": {},
   "cell_type": "markdown",
   "metadata": {
    "id": "yBC2C6sy4iQD"
   },
   "source": [
    "#### Task 2.9: Training Loop\n",
    "\n",
    "\n",
    "Implement gradient descent for a given number of 10'000 epochs using given input data, initial parameters $\\Theta$, loss_type, number of epochs, as well as a learning rate of $\\eta=0.1$.\n",
    "\n",
    "Make use of the normalized dataset from Task 2.3, the network from Task 2.5, the loss from Task 2.6, the gradient from Task 2.7, and the accuracy function from Task 2.8.\n",
    "\n",
    "Make sure that you train on the training data only, and not on the validation data.\n",
    "In each loop, compute and store the training loss, training accuracy, validation loss and validation accuracy.\n",
    "At the end, return the lists of these values.\n"
   ]
  },
  {
   "cell_type": "code",
   "execution_count": 203,
   "metadata": {
    "ExecuteTime": {
     "end_time": "2025-03-18T16:43:54.924519Z",
     "start_time": "2025-03-18T16:43:54.913280Z"
    },
    "id": "LOhA6w23qnaK"
   },
   "outputs": [],
   "source": [
    "def train(\n",
    "    X_train, T_train, X_val, T_val, Theta, loss_type, learning_rate=0.1, epochs=10_000\n",
    "):\n",
    "    W1, W2 = Theta\n",
    "    train_loss, train_acc, val_loss, val_acc = [], [], [], []\n",
    "    for _ in range(epochs):\n",
    "        Y, H = Network(X_train, Theta, loss_type)\n",
    "        loss_value = loss(Y, T_train, loss_type)\n",
    "        g1, g2 = gradient(X_train, T_train, Y, H, Theta)\n",
    "        W1 -= learning_rate * g1\n",
    "        W2 -= learning_rate * g2\n",
    "\n",
    "\n",
    "        Theta = [W1, W2]\n",
    "        train_loss.append(loss_value)\n",
    "        train_acc.append(accuracy(Y, T_train))\n",
    "\n",
    "        Y_val, H_val = Network(X_val, Theta, loss_type)\n",
    "        val_loss_value = loss(Y_val, T_val, loss_type)\n",
    "        val_loss.append(val_loss_value)\n",
    "        val_acc.append(accuracy(Y_val, T_val))\n",
    "    return train_loss, train_acc, val_loss, val_acc"
   ]
  },
  {
   "attachments": {},
   "cell_type": "markdown",
   "metadata": {
    "id": "tU_LUDM14iQD"
   },
   "source": [
    "#### Task 2.10: Plotting Function\n",
    "\n",
    "\n",
    "Implement a function that takes four lists containing the training loss, the training accuracy, the validation loss and the validation accuracy.\n",
    "Plot the two losses into one plot, and the two accuracies into another plot."
   ]
  },
  {
   "cell_type": "code",
   "execution_count": 204,
   "metadata": {
    "ExecuteTime": {
     "end_time": "2025-03-18T16:43:54.952264Z",
     "start_time": "2025-03-18T16:43:54.946192Z"
    },
    "id": "_fIVZsZvsryb"
   },
   "outputs": [],
   "source": [
    "from matplotlib import pyplot\n",
    "def plot(train_loss, train_acc, val_loss, val_acc):\n",
    "  pyplot.figure(figsize=(10,3))\n",
    "  ax = pyplot.subplot(121)\n",
    "  ax.plot(train_loss, \"g-\", label=\"Training set loss\")\n",
    "  ax.plot(val_loss, \"b-\", label=\"Validation set loss\")\n",
    "  ax.set_xlabel(\"Epoch\")\n",
    "  ax.legend()\n",
    "\n",
    "\n",
    "  ax = pyplot.subplot(122)\n",
    "  ax.plot(train_acc, \"g-\", label=\"Training set accuracy\")\n",
    "  ax.plot(val_acc, \"b-\", label=\"Validation set accuracy\")\n",
    "  ax.set_xlabel(\"Epoch\")\n",
    "  ax.legend()"
   ]
  },
  {
   "attachments": {},
   "cell_type": "markdown",
   "metadata": {
    "id": "I0A03pI84iQE"
   },
   "source": [
    "#### Task 2.11: Binary Classification\n",
    "\n",
    "\n",
    "1. Load the data for binary classification, using the ``\"churn_data.csv\"`` file.\n",
    "2. Split the data into training and validation sets.\n",
    "3. Normalize both training and validation input data using the function from Task 2.3.\n",
    "4. Instantiate the weight matrices $\\Theta=(\\mathbf W^{(1)}, \\mathbf W^{(2)})$ using the Xavier method as introduced in the lecture\n",
    "5. Train the network on the churn data with the learning rate of **$\\eta=0.1$** for 10'000 epochs and plot the training and validation accuracies and losses.\n",
    "\n"
   ]
  },
  {
   "cell_type": "code",
   "execution_count": 205,
   "metadata": {
    "ExecuteTime": {
     "end_time": "2025-03-18T16:44:30.433315Z",
     "start_time": "2025-03-18T16:43:54.972172Z"
    },
    "id": "6dQdkFKStw2g"
   },
   "outputs": [
    {
     "name": "stdout",
     "output_type": "stream",
     "text": [
      "Loaded dataset with 3150 samples\n",
      "Training loss: 0.21589814123043266\n",
      "Training accuracy: 0.9075396825396825\n",
      "Validation loss: 0.26213203956026176\n",
      "Validation accuracy: 0.8746031746031746\n"
     ]
    },
    {
     "data": {
      "image/png": "[encoded data removed]",
      "text/plain": [
       "<Figure size 1000x300 with 2 Axes>"
      ]
     },
     "metadata": {},
     "output_type": "display_data"
    }
   ],
   "source": [
    "# load dataset\n",
    "X, T = dataset(\"churn_data.csv\", \",\")\n",
    "\n",
    "# split dataset\n",
    "X_train, T_train, X_val, T_val = split_training_data(X, T)\n",
    "\n",
    "# normalize input data\n",
    "#X_train, X_val = (X_train - X_train.mean(axis=0)) / X_train.std(axis=0), (\n",
    "#    X_val - X_val.mean(axis=0)\n",
    "#) / X_val.std(axis=0)\n",
    "\n",
    "X_train, X_val = normalize(X_train, X_val)\n",
    "\n",
    "K = 10\n",
    "D = X_train.shape[0]  # Use number of features (rows)\n",
    "O = 1\n",
    "\n",
    "# Xavier normal initialization\n",
    "n_in = D\n",
    "n_out = O\n",
    "sd = numpy.sqrt(2/(n_in+n_out))\n",
    "\n",
    "W1 = np.random.randn(K, D) * sd\n",
    "W2 = np.random.randn(O, K + 1) * sd\n",
    "Theta = [W1, W2]\n",
    "\n",
    "# train network on our data\n",
    "train_loss, train_acc, val_loss, val_acc = train(\n",
    "    X_train, T_train, X_val, T_val, Theta, loss_type=\"bce\"\n",
    ")\n",
    "\n",
    "print(f\"Training loss: {train_loss[-1]}\")\n",
    "print(f\"Training accuracy: {train_acc[-1]}\")\n",
    "print(f\"Validation loss: {val_loss[-1]}\")\n",
    "print(f\"Validation accuracy: {val_acc[-1]}\")\n",
    "\n",
    "# plot the results\n",
    "plot(train_loss, train_acc, val_loss, val_acc)"
   ]
  },
  {
   "attachments": {},
   "cell_type": "markdown",
   "metadata": {
    "id": "UtB7EEI14iQE"
   },
   "source": [
    "#### Task 2.12: Categorical Classification\n",
    "\n",
    "\n",
    "1. Load the data for categorical classification, using the ``\"winequality-red.csv\"`` file.\n",
    "2. Split the data into training and validation sets.\n",
    "3. Normalize both training and validation input data using the function from Task 2.3.\n",
    "4. **How many input and output neurons do we need?** Change the number of input, hidden, and output neurons accordingly. Select an appropriate number of hidden neurons $K$.\n",
    "5. Instantiate the weight matrices $\\Theta=(\\mathbf W^{(1)}, \\mathbf W^{(2)})$ using the Xavier method as introduced in the lecture\n",
    "6. Train the network on the winequality-red dataset with the learning rate of **$\\eta=0.1$** for 10'000 epochs and plot the training and validation accuracies and losses.\n",
    "\n"
   ]
  },
  {
   "cell_type": "code",
   "execution_count": 225,
   "metadata": {
    "ExecuteTime": {
     "end_time": "2025-03-18T16:45:26.861051Z",
     "start_time": "2025-03-18T16:44:30.467358Z"
    },
    "id": "oBADNP7Muif5"
   },
   "outputs": [
    {
     "name": "stdout",
     "output_type": "stream",
     "text": [
      "Loaded dataset with 1599 samples\n",
      "Train loss: 0.8627219340716427\n",
      "Train accuracy: 0.6333072713057076\n",
      "Validation loss: 0.936251096145606\n",
      "Validation accuracy: 0.590625\n"
     ]
    },
    {
     "data": {
      "image/png": "[encoded data removed]",
      "text/plain": [
       "<Figure size 1000x300 with 2 Axes>"
      ]
     },
     "metadata": {},
     "output_type": "display_data"
    }
   ],
   "source": [
    "# load dataset\n",
    "X, T = dataset(\"winequality-red.csv\", \";\")\n",
    "\n",
    "# split dataset\n",
    "X_train, T_train, X_val, T_val = split_training_data(X, T)\n",
    "\n",
    "# normalize input data\n",
    "# X_train, X_val = (X_train - X_train.mean(axis=0)) / X_train.std(axis=0), (X_val - X_val.mean(axis=0)) / X_val.std(axis=0)\n",
    "X_train, X_val = normalize(X_train, X_val)\n",
    "\n",
    "K = 50\n",
    "D = X_train.shape[0] # Use number of features (rows)\n",
    "O = 6\n",
    "\n",
    "# Xavier normal initialization\n",
    "n_in = D\n",
    "n_out = O\n",
    "sd = np.sqrt(2/(n_in+n_out))\n",
    "\n",
    "W1 = np.random.randn(K, D) * sd\n",
    "W2 = np.random.randn(O, K + 1) * sd\n",
    "Theta = [W1, W2]\n",
    "\n",
    "# train network on our data\n",
    "train_loss, train_acc, val_loss, val_acc = train(\n",
    "    X_train, T_train, X_val, T_val, Theta, loss_type=\"cce\", learning_rate=0.1, epochs=10000)\n",
    "\n",
    "print(f\"Train loss: {train_loss[-1]}\")\n",
    "print(f\"Train accuracy: {train_acc[-1]}\")\n",
    "print(f\"Validation loss: {val_loss[-1]}\")\n",
    "print(f\"Validation accuracy: {val_acc[-1]}\")\n",
    "\n",
    "# plot the results\n",
    "plot(train_loss, train_acc, val_loss, val_acc)"
   ]
  }
 ],
 "metadata": {
  "colab": {
   "provenance": []
  },
  "kernelspec": {
   "display_name": "venv",
   "language": "python",
   "name": "python3"
  },
  "language_info": {
   "codemirror_mode": {
    "name": "ipython",
    "version": 3
   },
   "file_extension": ".py",
   "mimetype": "text/x-python",
   "name": "python",
   "nbconvert_exporter": "python",
   "pygments_lexer": "ipython3",
   "version": "3.13.2"
  }
 },
 "nbformat": 4,
 "nbformat_minor": 0
}
